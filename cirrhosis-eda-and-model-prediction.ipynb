{
 "cells": [
  {
   "cell_type": "code",
   "execution_count": 1,
   "id": "771859b1",
   "metadata": {
    "execution": {
     "iopub.execute_input": "2022-11-03T09:46:10.955985Z",
     "iopub.status.busy": "2022-11-03T09:46:10.954858Z",
     "iopub.status.idle": "2022-11-03T09:46:12.133469Z",
     "shell.execute_reply": "2022-11-03T09:46:12.132247Z"
    },
    "papermill": {
     "duration": 1.203198,
     "end_time": "2022-11-03T09:46:12.136534",
     "exception": false,
     "start_time": "2022-11-03T09:46:10.933336",
     "status": "completed"
    },
    "tags": []
   },
   "outputs": [],
   "source": [
    "import pandas as pd\n",
    "import numpy as np \n",
    "import matplotlib.pyplot as plt\n",
    "import seaborn as sns\n",
    "%matplotlib inline\n",
    "import warnings\n",
    "warnings.filterwarnings('ignore')"
   ]
  },
  {
   "cell_type": "code",
   "execution_count": 2,
   "id": "c9041201",
   "metadata": {
    "execution": {
     "iopub.execute_input": "2022-11-03T09:46:12.169586Z",
     "iopub.status.busy": "2022-11-03T09:46:12.168415Z",
     "iopub.status.idle": "2022-11-03T09:46:12.227362Z",
     "shell.execute_reply": "2022-11-03T09:46:12.225733Z"
    },
    "papermill": {
     "duration": 0.078568,
     "end_time": "2022-11-03T09:46:12.230471",
     "exception": false,
     "start_time": "2022-11-03T09:46:12.151903",
     "status": "completed"
    },
    "tags": []
   },
   "outputs": [
    {
     "name": "stdout",
     "output_type": "stream",
     "text": [
      "(418, 20)\n"
     ]
    },
    {
     "data": {
      "text/html": [
       "<div>\n",
       "<style scoped>\n",
       "    .dataframe tbody tr th:only-of-type {\n",
       "        vertical-align: middle;\n",
       "    }\n",
       "\n",
       "    .dataframe tbody tr th {\n",
       "        vertical-align: top;\n",
       "    }\n",
       "\n",
       "    .dataframe thead th {\n",
       "        text-align: right;\n",
       "    }\n",
       "</style>\n",
       "<table border=\"1\" class=\"dataframe\">\n",
       "  <thead>\n",
       "    <tr style=\"text-align: right;\">\n",
       "      <th></th>\n",
       "      <th>ID</th>\n",
       "      <th>N_Days</th>\n",
       "      <th>Status</th>\n",
       "      <th>Drug</th>\n",
       "      <th>Age</th>\n",
       "      <th>Sex</th>\n",
       "      <th>Ascites</th>\n",
       "      <th>Hepatomegaly</th>\n",
       "      <th>Spiders</th>\n",
       "      <th>Edema</th>\n",
       "      <th>Bilirubin</th>\n",
       "      <th>Cholesterol</th>\n",
       "      <th>Albumin</th>\n",
       "      <th>Copper</th>\n",
       "      <th>Alk_Phos</th>\n",
       "      <th>SGOT</th>\n",
       "      <th>Tryglicerides</th>\n",
       "      <th>Platelets</th>\n",
       "      <th>Prothrombin</th>\n",
       "      <th>Stage</th>\n",
       "    </tr>\n",
       "  </thead>\n",
       "  <tbody>\n",
       "    <tr>\n",
       "      <th>0</th>\n",
       "      <td>1</td>\n",
       "      <td>400</td>\n",
       "      <td>D</td>\n",
       "      <td>D-penicillamine</td>\n",
       "      <td>21464</td>\n",
       "      <td>F</td>\n",
       "      <td>Y</td>\n",
       "      <td>Y</td>\n",
       "      <td>Y</td>\n",
       "      <td>Y</td>\n",
       "      <td>14.5</td>\n",
       "      <td>261.0</td>\n",
       "      <td>2.60</td>\n",
       "      <td>156.0</td>\n",
       "      <td>1718.0</td>\n",
       "      <td>137.95</td>\n",
       "      <td>172.0</td>\n",
       "      <td>190.0</td>\n",
       "      <td>12.2</td>\n",
       "      <td>4.0</td>\n",
       "    </tr>\n",
       "    <tr>\n",
       "      <th>1</th>\n",
       "      <td>2</td>\n",
       "      <td>4500</td>\n",
       "      <td>C</td>\n",
       "      <td>D-penicillamine</td>\n",
       "      <td>20617</td>\n",
       "      <td>F</td>\n",
       "      <td>N</td>\n",
       "      <td>Y</td>\n",
       "      <td>Y</td>\n",
       "      <td>N</td>\n",
       "      <td>1.1</td>\n",
       "      <td>302.0</td>\n",
       "      <td>4.14</td>\n",
       "      <td>54.0</td>\n",
       "      <td>7394.8</td>\n",
       "      <td>113.52</td>\n",
       "      <td>88.0</td>\n",
       "      <td>221.0</td>\n",
       "      <td>10.6</td>\n",
       "      <td>3.0</td>\n",
       "    </tr>\n",
       "    <tr>\n",
       "      <th>2</th>\n",
       "      <td>3</td>\n",
       "      <td>1012</td>\n",
       "      <td>D</td>\n",
       "      <td>D-penicillamine</td>\n",
       "      <td>25594</td>\n",
       "      <td>M</td>\n",
       "      <td>N</td>\n",
       "      <td>N</td>\n",
       "      <td>N</td>\n",
       "      <td>S</td>\n",
       "      <td>1.4</td>\n",
       "      <td>176.0</td>\n",
       "      <td>3.48</td>\n",
       "      <td>210.0</td>\n",
       "      <td>516.0</td>\n",
       "      <td>96.10</td>\n",
       "      <td>55.0</td>\n",
       "      <td>151.0</td>\n",
       "      <td>12.0</td>\n",
       "      <td>4.0</td>\n",
       "    </tr>\n",
       "    <tr>\n",
       "      <th>3</th>\n",
       "      <td>4</td>\n",
       "      <td>1925</td>\n",
       "      <td>D</td>\n",
       "      <td>D-penicillamine</td>\n",
       "      <td>19994</td>\n",
       "      <td>F</td>\n",
       "      <td>N</td>\n",
       "      <td>Y</td>\n",
       "      <td>Y</td>\n",
       "      <td>S</td>\n",
       "      <td>1.8</td>\n",
       "      <td>244.0</td>\n",
       "      <td>2.54</td>\n",
       "      <td>64.0</td>\n",
       "      <td>6121.8</td>\n",
       "      <td>60.63</td>\n",
       "      <td>92.0</td>\n",
       "      <td>183.0</td>\n",
       "      <td>10.3</td>\n",
       "      <td>4.0</td>\n",
       "    </tr>\n",
       "    <tr>\n",
       "      <th>4</th>\n",
       "      <td>5</td>\n",
       "      <td>1504</td>\n",
       "      <td>CL</td>\n",
       "      <td>Placebo</td>\n",
       "      <td>13918</td>\n",
       "      <td>F</td>\n",
       "      <td>N</td>\n",
       "      <td>Y</td>\n",
       "      <td>Y</td>\n",
       "      <td>N</td>\n",
       "      <td>3.4</td>\n",
       "      <td>279.0</td>\n",
       "      <td>3.53</td>\n",
       "      <td>143.0</td>\n",
       "      <td>671.0</td>\n",
       "      <td>113.15</td>\n",
       "      <td>72.0</td>\n",
       "      <td>136.0</td>\n",
       "      <td>10.9</td>\n",
       "      <td>3.0</td>\n",
       "    </tr>\n",
       "  </tbody>\n",
       "</table>\n",
       "</div>"
      ],
      "text/plain": [
       "   ID  N_Days Status             Drug    Age Sex Ascites Hepatomegaly Spiders  \\\n",
       "0   1     400      D  D-penicillamine  21464   F       Y            Y       Y   \n",
       "1   2    4500      C  D-penicillamine  20617   F       N            Y       Y   \n",
       "2   3    1012      D  D-penicillamine  25594   M       N            N       N   \n",
       "3   4    1925      D  D-penicillamine  19994   F       N            Y       Y   \n",
       "4   5    1504     CL          Placebo  13918   F       N            Y       Y   \n",
       "\n",
       "  Edema  Bilirubin  Cholesterol  Albumin  Copper  Alk_Phos    SGOT  \\\n",
       "0     Y       14.5        261.0     2.60   156.0    1718.0  137.95   \n",
       "1     N        1.1        302.0     4.14    54.0    7394.8  113.52   \n",
       "2     S        1.4        176.0     3.48   210.0     516.0   96.10   \n",
       "3     S        1.8        244.0     2.54    64.0    6121.8   60.63   \n",
       "4     N        3.4        279.0     3.53   143.0     671.0  113.15   \n",
       "\n",
       "   Tryglicerides  Platelets  Prothrombin  Stage  \n",
       "0          172.0      190.0         12.2    4.0  \n",
       "1           88.0      221.0         10.6    3.0  \n",
       "2           55.0      151.0         12.0    4.0  \n",
       "3           92.0      183.0         10.3    4.0  \n",
       "4           72.0      136.0         10.9    3.0  "
      ]
     },
     "execution_count": 2,
     "metadata": {},
     "output_type": "execute_result"
    }
   ],
   "source": [
    "df=pd.read_csv('../input/cirrhosis-prediction-dataset/cirrhosis.csv')\n",
    "print(df.shape)\n",
    "df.head()"
   ]
  },
  {
   "cell_type": "markdown",
   "id": "ce392646",
   "metadata": {
    "papermill": {
     "duration": 0.014729,
     "end_time": "2022-11-03T09:46:12.260210",
     "exception": false,
     "start_time": "2022-11-03T09:46:12.245481",
     "status": "completed"
    },
    "tags": []
   },
   "source": [
    "# 1. EDA on Cirrhosis Dataset\n",
    "\n",
    "### A) Converting Values from Days to Years in \"Age\" Column\n",
    "- The values in the column \"Age\" are containing the days passed since the poeple's birthday. \n",
    "- So, we are converting those values to years by dividing the days by 365 and changing the data type from float64 to int."
   ]
  },
  {
   "cell_type": "code",
   "execution_count": 3,
   "id": "fa7d5218",
   "metadata": {
    "execution": {
     "iopub.execute_input": "2022-11-03T09:46:12.293218Z",
     "iopub.status.busy": "2022-11-03T09:46:12.292777Z",
     "iopub.status.idle": "2022-11-03T09:46:12.304272Z",
     "shell.execute_reply": "2022-11-03T09:46:12.302978Z"
    },
    "papermill": {
     "duration": 0.030706,
     "end_time": "2022-11-03T09:46:12.307014",
     "exception": false,
     "start_time": "2022-11-03T09:46:12.276308",
     "status": "completed"
    },
    "tags": []
   },
   "outputs": [],
   "source": [
    "df[\"Age\"] = (df[\"Age\"]/365)\n",
    "df[\"Age\"] = df[\"Age\"].astype(\"int64\")"
   ]
  },
  {
   "cell_type": "code",
   "execution_count": 4,
   "id": "fbf5be42",
   "metadata": {
    "execution": {
     "iopub.execute_input": "2022-11-03T09:46:12.339237Z",
     "iopub.status.busy": "2022-11-03T09:46:12.338827Z",
     "iopub.status.idle": "2022-11-03T09:46:12.351015Z",
     "shell.execute_reply": "2022-11-03T09:46:12.349724Z"
    },
    "papermill": {
     "duration": 0.031951,
     "end_time": "2022-11-03T09:46:12.354240",
     "exception": false,
     "start_time": "2022-11-03T09:46:12.322289",
     "status": "completed"
    },
    "tags": []
   },
   "outputs": [],
   "source": [
    "df.drop(['ID'], axis=1, inplace=True)"
   ]
  },
  {
   "cell_type": "code",
   "execution_count": 5,
   "id": "d2369846",
   "metadata": {
    "execution": {
     "iopub.execute_input": "2022-11-03T09:46:12.385893Z",
     "iopub.status.busy": "2022-11-03T09:46:12.385319Z",
     "iopub.status.idle": "2022-11-03T09:46:12.408379Z",
     "shell.execute_reply": "2022-11-03T09:46:12.406691Z"
    },
    "papermill": {
     "duration": 0.041666,
     "end_time": "2022-11-03T09:46:12.410842",
     "exception": false,
     "start_time": "2022-11-03T09:46:12.369176",
     "status": "completed"
    },
    "tags": []
   },
   "outputs": [
    {
     "name": "stdout",
     "output_type": "stream",
     "text": [
      "<class 'pandas.core.frame.DataFrame'>\n",
      "RangeIndex: 418 entries, 0 to 417\n",
      "Data columns (total 19 columns):\n",
      " #   Column         Non-Null Count  Dtype  \n",
      "---  ------         --------------  -----  \n",
      " 0   N_Days         418 non-null    int64  \n",
      " 1   Status         418 non-null    object \n",
      " 2   Drug           312 non-null    object \n",
      " 3   Age            418 non-null    int64  \n",
      " 4   Sex            418 non-null    object \n",
      " 5   Ascites        312 non-null    object \n",
      " 6   Hepatomegaly   312 non-null    object \n",
      " 7   Spiders        312 non-null    object \n",
      " 8   Edema          418 non-null    object \n",
      " 9   Bilirubin      418 non-null    float64\n",
      " 10  Cholesterol    284 non-null    float64\n",
      " 11  Albumin        418 non-null    float64\n",
      " 12  Copper         310 non-null    float64\n",
      " 13  Alk_Phos       312 non-null    float64\n",
      " 14  SGOT           312 non-null    float64\n",
      " 15  Tryglicerides  282 non-null    float64\n",
      " 16  Platelets      407 non-null    float64\n",
      " 17  Prothrombin    416 non-null    float64\n",
      " 18  Stage          412 non-null    float64\n",
      "dtypes: float64(10), int64(2), object(7)\n",
      "memory usage: 62.2+ KB\n"
     ]
    }
   ],
   "source": [
    "df.info()"
   ]
  },
  {
   "cell_type": "code",
   "execution_count": 6,
   "id": "69bb8f50",
   "metadata": {
    "execution": {
     "iopub.execute_input": "2022-11-03T09:46:12.443246Z",
     "iopub.status.busy": "2022-11-03T09:46:12.442768Z",
     "iopub.status.idle": "2022-11-03T09:46:12.557411Z",
     "shell.execute_reply": "2022-11-03T09:46:12.556170Z"
    },
    "papermill": {
     "duration": 0.134066,
     "end_time": "2022-11-03T09:46:12.560124",
     "exception": false,
     "start_time": "2022-11-03T09:46:12.426058",
     "status": "completed"
    },
    "tags": []
   },
   "outputs": [
    {
     "data": {
      "text/html": [
       "<style type=\"text/css\">\n",
       "#T_ebe44_row0_col0, #T_ebe44_row0_col4, #T_ebe44_row0_col5, #T_ebe44_row0_col6, #T_ebe44_row1_col0, #T_ebe44_row2_col0, #T_ebe44_row4_col0, #T_ebe44_row6_col1, #T_ebe44_row6_col2, #T_ebe44_row6_col3, #T_ebe44_row6_col7 {\n",
       "  background-color: #084081;\n",
       "  color: #f1f1f1;\n",
       "}\n",
       "#T_ebe44_row0_col1 {\n",
       "  background-color: #084a8c;\n",
       "  color: #f1f1f1;\n",
       "}\n",
       "#T_ebe44_row0_col2 {\n",
       "  background-color: #75c8c6;\n",
       "  color: #000000;\n",
       "}\n",
       "#T_ebe44_row0_col3, #T_ebe44_row9_col5 {\n",
       "  background-color: #ddf2d8;\n",
       "  color: #000000;\n",
       "}\n",
       "#T_ebe44_row0_col7 {\n",
       "  background-color: #b1e0b9;\n",
       "  color: #000000;\n",
       "}\n",
       "#T_ebe44_row1_col1, #T_ebe44_row7_col2 {\n",
       "  background-color: #f3faec;\n",
       "  color: #000000;\n",
       "}\n",
       "#T_ebe44_row1_col2, #T_ebe44_row1_col7, #T_ebe44_row4_col3, #T_ebe44_row10_col5 {\n",
       "  background-color: #f6fcef;\n",
       "  color: #000000;\n",
       "}\n",
       "#T_ebe44_row1_col3 {\n",
       "  background-color: #e7f6e2;\n",
       "  color: #000000;\n",
       "}\n",
       "#T_ebe44_row1_col4, #T_ebe44_row5_col4 {\n",
       "  background-color: #f1f9ea;\n",
       "  color: #000000;\n",
       "}\n",
       "#T_ebe44_row1_col5, #T_ebe44_row8_col2, #T_ebe44_row10_col3 {\n",
       "  background-color: #f2faeb;\n",
       "  color: #000000;\n",
       "}\n",
       "#T_ebe44_row1_col6 {\n",
       "  background-color: #f3fbed;\n",
       "  color: #000000;\n",
       "}\n",
       "#T_ebe44_row2_col1, #T_ebe44_row2_col2, #T_ebe44_row2_col3, #T_ebe44_row2_col4, #T_ebe44_row2_col5, #T_ebe44_row2_col6, #T_ebe44_row2_col7, #T_ebe44_row4_col1, #T_ebe44_row4_col2, #T_ebe44_row4_col4, #T_ebe44_row4_col5, #T_ebe44_row4_col6, #T_ebe44_row4_col7, #T_ebe44_row8_col0, #T_ebe44_row10_col1, #T_ebe44_row10_col2, #T_ebe44_row10_col6, #T_ebe44_row10_col7, #T_ebe44_row11_col1, #T_ebe44_row11_col2, #T_ebe44_row11_col3, #T_ebe44_row11_col4, #T_ebe44_row11_col5, #T_ebe44_row11_col6, #T_ebe44_row11_col7 {\n",
       "  background-color: #f7fcf0;\n",
       "  color: #000000;\n",
       "}\n",
       "#T_ebe44_row3_col0, #T_ebe44_row5_col3 {\n",
       "  background-color: #f5fbee;\n",
       "  color: #000000;\n",
       "}\n",
       "#T_ebe44_row3_col1 {\n",
       "  background-color: #d7efd1;\n",
       "  color: #000000;\n",
       "}\n",
       "#T_ebe44_row3_col2 {\n",
       "  background-color: #e4f4de;\n",
       "  color: #000000;\n",
       "}\n",
       "#T_ebe44_row3_col3 {\n",
       "  background-color: #99d7ba;\n",
       "  color: #000000;\n",
       "}\n",
       "#T_ebe44_row3_col4 {\n",
       "  background-color: #d0ecc9;\n",
       "  color: #000000;\n",
       "}\n",
       "#T_ebe44_row3_col5 {\n",
       "  background-color: #d8f0d2;\n",
       "  color: #000000;\n",
       "}\n",
       "#T_ebe44_row3_col6 {\n",
       "  background-color: #dcf1d7;\n",
       "  color: #000000;\n",
       "}\n",
       "#T_ebe44_row3_col7, #T_ebe44_row9_col1 {\n",
       "  background-color: #e0f3db;\n",
       "  color: #000000;\n",
       "}\n",
       "#T_ebe44_row5_col0 {\n",
       "  background-color: #d3eecd;\n",
       "  color: #000000;\n",
       "}\n",
       "#T_ebe44_row5_col1 {\n",
       "  background-color: #eef9e8;\n",
       "  color: #000000;\n",
       "}\n",
       "#T_ebe44_row5_col2, #T_ebe44_row5_col5, #T_ebe44_row5_col7, #T_ebe44_row8_col7 {\n",
       "  background-color: #f0f9e9;\n",
       "  color: #000000;\n",
       "}\n",
       "#T_ebe44_row5_col6, #T_ebe44_row9_col2 {\n",
       "  background-color: #eff9e9;\n",
       "  color: #000000;\n",
       "}\n",
       "#T_ebe44_row6_col0, #T_ebe44_row7_col0 {\n",
       "  background-color: #d1edca;\n",
       "  color: #000000;\n",
       "}\n",
       "#T_ebe44_row6_col4 {\n",
       "  background-color: #1d7eb7;\n",
       "  color: #f1f1f1;\n",
       "}\n",
       "#T_ebe44_row6_col5 {\n",
       "  background-color: #3192c1;\n",
       "  color: #f1f1f1;\n",
       "}\n",
       "#T_ebe44_row6_col6 {\n",
       "  background-color: #298abd;\n",
       "  color: #f1f1f1;\n",
       "}\n",
       "#T_ebe44_row7_col1, #T_ebe44_row8_col1, #T_ebe44_row8_col5 {\n",
       "  background-color: #ecf8e6;\n",
       "  color: #000000;\n",
       "}\n",
       "#T_ebe44_row7_col3 {\n",
       "  background-color: #e6f6e1;\n",
       "  color: #000000;\n",
       "}\n",
       "#T_ebe44_row7_col4 {\n",
       "  background-color: #eaf7e4;\n",
       "  color: #000000;\n",
       "}\n",
       "#T_ebe44_row7_col5 {\n",
       "  background-color: #ebf7e5;\n",
       "  color: #000000;\n",
       "}\n",
       "#T_ebe44_row7_col6, #T_ebe44_row8_col6 {\n",
       "  background-color: #edf8e7;\n",
       "  color: #000000;\n",
       "}\n",
       "#T_ebe44_row7_col7 {\n",
       "  background-color: #f1faeb;\n",
       "  color: #000000;\n",
       "}\n",
       "#T_ebe44_row8_col3 {\n",
       "  background-color: #e3f4de;\n",
       "  color: #000000;\n",
       "}\n",
       "#T_ebe44_row8_col4 {\n",
       "  background-color: #e9f7e3;\n",
       "  color: #000000;\n",
       "}\n",
       "#T_ebe44_row9_col0 {\n",
       "  background-color: #08599c;\n",
       "  color: #f1f1f1;\n",
       "}\n",
       "#T_ebe44_row9_col3 {\n",
       "  background-color: #d2edcc;\n",
       "  color: #000000;\n",
       "}\n",
       "#T_ebe44_row9_col4 {\n",
       "  background-color: #d8f0d3;\n",
       "  color: #000000;\n",
       "}\n",
       "#T_ebe44_row9_col6 {\n",
       "  background-color: #e1f4dc;\n",
       "  color: #000000;\n",
       "}\n",
       "#T_ebe44_row9_col7 {\n",
       "  background-color: #eef8e7;\n",
       "  color: #000000;\n",
       "}\n",
       "#T_ebe44_row10_col0 {\n",
       "  background-color: #084485;\n",
       "  color: #f1f1f1;\n",
       "}\n",
       "#T_ebe44_row10_col4 {\n",
       "  background-color: #f6fbef;\n",
       "  color: #000000;\n",
       "}\n",
       "#T_ebe44_row11_col0 {\n",
       "  background-color: #084e90;\n",
       "  color: #f1f1f1;\n",
       "}\n",
       "</style>\n",
       "<table id=\"T_ebe44_\">\n",
       "  <thead>\n",
       "    <tr>\n",
       "      <th class=\"blank level0\" >&nbsp;</th>\n",
       "      <th class=\"col_heading level0 col0\" >count</th>\n",
       "      <th class=\"col_heading level0 col1\" >mean</th>\n",
       "      <th class=\"col_heading level0 col2\" >std</th>\n",
       "      <th class=\"col_heading level0 col3\" >min</th>\n",
       "      <th class=\"col_heading level0 col4\" >25%</th>\n",
       "      <th class=\"col_heading level0 col5\" >50%</th>\n",
       "      <th class=\"col_heading level0 col6\" >75%</th>\n",
       "      <th class=\"col_heading level0 col7\" >max</th>\n",
       "    </tr>\n",
       "  </thead>\n",
       "  <tbody>\n",
       "    <tr>\n",
       "      <th id=\"T_ebe44_level0_row0\" class=\"row_heading level0 row0\" >N_Days</th>\n",
       "      <td id=\"T_ebe44_row0_col0\" class=\"data row0 col0\" >418.000000</td>\n",
       "      <td id=\"T_ebe44_row0_col1\" class=\"data row0 col1\" >1917.782297</td>\n",
       "      <td id=\"T_ebe44_row0_col2\" class=\"data row0 col2\" >1104.672992</td>\n",
       "      <td id=\"T_ebe44_row0_col3\" class=\"data row0 col3\" >41.000000</td>\n",
       "      <td id=\"T_ebe44_row0_col4\" class=\"data row0 col4\" >1092.750000</td>\n",
       "      <td id=\"T_ebe44_row0_col5\" class=\"data row0 col5\" >1730.000000</td>\n",
       "      <td id=\"T_ebe44_row0_col6\" class=\"data row0 col6\" >2613.500000</td>\n",
       "      <td id=\"T_ebe44_row0_col7\" class=\"data row0 col7\" >4795.000000</td>\n",
       "    </tr>\n",
       "    <tr>\n",
       "      <th id=\"T_ebe44_level0_row1\" class=\"row_heading level0 row1\" >Age</th>\n",
       "      <td id=\"T_ebe44_row1_col0\" class=\"data row1 col0\" >418.000000</td>\n",
       "      <td id=\"T_ebe44_row1_col1\" class=\"data row1 col1\" >50.382775</td>\n",
       "      <td id=\"T_ebe44_row1_col2\" class=\"data row1 col2\" >10.481084</td>\n",
       "      <td id=\"T_ebe44_row1_col3\" class=\"data row1 col3\" >26.000000</td>\n",
       "      <td id=\"T_ebe44_row1_col4\" class=\"data row1 col4\" >42.000000</td>\n",
       "      <td id=\"T_ebe44_row1_col5\" class=\"data row1 col5\" >51.000000</td>\n",
       "      <td id=\"T_ebe44_row1_col6\" class=\"data row1 col6\" >58.000000</td>\n",
       "      <td id=\"T_ebe44_row1_col7\" class=\"data row1 col7\" >78.000000</td>\n",
       "    </tr>\n",
       "    <tr>\n",
       "      <th id=\"T_ebe44_level0_row2\" class=\"row_heading level0 row2\" >Bilirubin</th>\n",
       "      <td id=\"T_ebe44_row2_col0\" class=\"data row2 col0\" >418.000000</td>\n",
       "      <td id=\"T_ebe44_row2_col1\" class=\"data row2 col1\" >3.220813</td>\n",
       "      <td id=\"T_ebe44_row2_col2\" class=\"data row2 col2\" >4.407506</td>\n",
       "      <td id=\"T_ebe44_row2_col3\" class=\"data row2 col3\" >0.300000</td>\n",
       "      <td id=\"T_ebe44_row2_col4\" class=\"data row2 col4\" >0.800000</td>\n",
       "      <td id=\"T_ebe44_row2_col5\" class=\"data row2 col5\" >1.400000</td>\n",
       "      <td id=\"T_ebe44_row2_col6\" class=\"data row2 col6\" >3.400000</td>\n",
       "      <td id=\"T_ebe44_row2_col7\" class=\"data row2 col7\" >28.000000</td>\n",
       "    </tr>\n",
       "    <tr>\n",
       "      <th id=\"T_ebe44_level0_row3\" class=\"row_heading level0 row3\" >Cholesterol</th>\n",
       "      <td id=\"T_ebe44_row3_col0\" class=\"data row3 col0\" >284.000000</td>\n",
       "      <td id=\"T_ebe44_row3_col1\" class=\"data row3 col1\" >369.510563</td>\n",
       "      <td id=\"T_ebe44_row3_col2\" class=\"data row3 col2\" >231.944545</td>\n",
       "      <td id=\"T_ebe44_row3_col3\" class=\"data row3 col3\" >120.000000</td>\n",
       "      <td id=\"T_ebe44_row3_col4\" class=\"data row3 col4\" >249.500000</td>\n",
       "      <td id=\"T_ebe44_row3_col5\" class=\"data row3 col5\" >309.500000</td>\n",
       "      <td id=\"T_ebe44_row3_col6\" class=\"data row3 col6\" >400.000000</td>\n",
       "      <td id=\"T_ebe44_row3_col7\" class=\"data row3 col7\" >1775.000000</td>\n",
       "    </tr>\n",
       "    <tr>\n",
       "      <th id=\"T_ebe44_level0_row4\" class=\"row_heading level0 row4\" >Albumin</th>\n",
       "      <td id=\"T_ebe44_row4_col0\" class=\"data row4 col0\" >418.000000</td>\n",
       "      <td id=\"T_ebe44_row4_col1\" class=\"data row4 col1\" >3.497440</td>\n",
       "      <td id=\"T_ebe44_row4_col2\" class=\"data row4 col2\" >0.424972</td>\n",
       "      <td id=\"T_ebe44_row4_col3\" class=\"data row4 col3\" >1.960000</td>\n",
       "      <td id=\"T_ebe44_row4_col4\" class=\"data row4 col4\" >3.242500</td>\n",
       "      <td id=\"T_ebe44_row4_col5\" class=\"data row4 col5\" >3.530000</td>\n",
       "      <td id=\"T_ebe44_row4_col6\" class=\"data row4 col6\" >3.770000</td>\n",
       "      <td id=\"T_ebe44_row4_col7\" class=\"data row4 col7\" >4.640000</td>\n",
       "    </tr>\n",
       "    <tr>\n",
       "      <th id=\"T_ebe44_level0_row5\" class=\"row_heading level0 row5\" >Copper</th>\n",
       "      <td id=\"T_ebe44_row5_col0\" class=\"data row5 col0\" >310.000000</td>\n",
       "      <td id=\"T_ebe44_row5_col1\" class=\"data row5 col1\" >97.648387</td>\n",
       "      <td id=\"T_ebe44_row5_col2\" class=\"data row5 col2\" >85.613920</td>\n",
       "      <td id=\"T_ebe44_row5_col3\" class=\"data row5 col3\" >4.000000</td>\n",
       "      <td id=\"T_ebe44_row5_col4\" class=\"data row5 col4\" >41.250000</td>\n",
       "      <td id=\"T_ebe44_row5_col5\" class=\"data row5 col5\" >73.000000</td>\n",
       "      <td id=\"T_ebe44_row5_col6\" class=\"data row5 col6\" >123.000000</td>\n",
       "      <td id=\"T_ebe44_row5_col7\" class=\"data row5 col7\" >588.000000</td>\n",
       "    </tr>\n",
       "    <tr>\n",
       "      <th id=\"T_ebe44_level0_row6\" class=\"row_heading level0 row6\" >Alk_Phos</th>\n",
       "      <td id=\"T_ebe44_row6_col0\" class=\"data row6 col0\" >312.000000</td>\n",
       "      <td id=\"T_ebe44_row6_col1\" class=\"data row6 col1\" >1982.655769</td>\n",
       "      <td id=\"T_ebe44_row6_col2\" class=\"data row6 col2\" >2140.388824</td>\n",
       "      <td id=\"T_ebe44_row6_col3\" class=\"data row6 col3\" >289.000000</td>\n",
       "      <td id=\"T_ebe44_row6_col4\" class=\"data row6 col4\" >871.500000</td>\n",
       "      <td id=\"T_ebe44_row6_col5\" class=\"data row6 col5\" >1259.000000</td>\n",
       "      <td id=\"T_ebe44_row6_col6\" class=\"data row6 col6\" >1980.000000</td>\n",
       "      <td id=\"T_ebe44_row6_col7\" class=\"data row6 col7\" >13862.400000</td>\n",
       "    </tr>\n",
       "    <tr>\n",
       "      <th id=\"T_ebe44_level0_row7\" class=\"row_heading level0 row7\" >SGOT</th>\n",
       "      <td id=\"T_ebe44_row7_col0\" class=\"data row7 col0\" >312.000000</td>\n",
       "      <td id=\"T_ebe44_row7_col1\" class=\"data row7 col1\" >122.556346</td>\n",
       "      <td id=\"T_ebe44_row7_col2\" class=\"data row7 col2\" >56.699525</td>\n",
       "      <td id=\"T_ebe44_row7_col3\" class=\"data row7 col3\" >26.350000</td>\n",
       "      <td id=\"T_ebe44_row7_col4\" class=\"data row7 col4\" >80.600000</td>\n",
       "      <td id=\"T_ebe44_row7_col5\" class=\"data row7 col5\" >114.700000</td>\n",
       "      <td id=\"T_ebe44_row7_col6\" class=\"data row7 col6\" >151.900000</td>\n",
       "      <td id=\"T_ebe44_row7_col7\" class=\"data row7 col7\" >457.250000</td>\n",
       "    </tr>\n",
       "    <tr>\n",
       "      <th id=\"T_ebe44_level0_row8\" class=\"row_heading level0 row8\" >Tryglicerides</th>\n",
       "      <td id=\"T_ebe44_row8_col0\" class=\"data row8 col0\" >282.000000</td>\n",
       "      <td id=\"T_ebe44_row8_col1\" class=\"data row8 col1\" >124.702128</td>\n",
       "      <td id=\"T_ebe44_row8_col2\" class=\"data row8 col2\" >65.148639</td>\n",
       "      <td id=\"T_ebe44_row8_col3\" class=\"data row8 col3\" >33.000000</td>\n",
       "      <td id=\"T_ebe44_row8_col4\" class=\"data row8 col4\" >84.250000</td>\n",
       "      <td id=\"T_ebe44_row8_col5\" class=\"data row8 col5\" >108.000000</td>\n",
       "      <td id=\"T_ebe44_row8_col6\" class=\"data row8 col6\" >151.000000</td>\n",
       "      <td id=\"T_ebe44_row8_col7\" class=\"data row8 col7\" >598.000000</td>\n",
       "    </tr>\n",
       "    <tr>\n",
       "      <th id=\"T_ebe44_level0_row9\" class=\"row_heading level0 row9\" >Platelets</th>\n",
       "      <td id=\"T_ebe44_row9_col0\" class=\"data row9 col0\" >407.000000</td>\n",
       "      <td id=\"T_ebe44_row9_col1\" class=\"data row9 col1\" >257.024570</td>\n",
       "      <td id=\"T_ebe44_row9_col2\" class=\"data row9 col2\" >98.325585</td>\n",
       "      <td id=\"T_ebe44_row9_col3\" class=\"data row9 col3\" >62.000000</td>\n",
       "      <td id=\"T_ebe44_row9_col4\" class=\"data row9 col4\" >188.500000</td>\n",
       "      <td id=\"T_ebe44_row9_col5\" class=\"data row9 col5\" >251.000000</td>\n",
       "      <td id=\"T_ebe44_row9_col6\" class=\"data row9 col6\" >318.000000</td>\n",
       "      <td id=\"T_ebe44_row9_col7\" class=\"data row9 col7\" >721.000000</td>\n",
       "    </tr>\n",
       "    <tr>\n",
       "      <th id=\"T_ebe44_level0_row10\" class=\"row_heading level0 row10\" >Prothrombin</th>\n",
       "      <td id=\"T_ebe44_row10_col0\" class=\"data row10 col0\" >416.000000</td>\n",
       "      <td id=\"T_ebe44_row10_col1\" class=\"data row10 col1\" >10.731731</td>\n",
       "      <td id=\"T_ebe44_row10_col2\" class=\"data row10 col2\" >1.022000</td>\n",
       "      <td id=\"T_ebe44_row10_col3\" class=\"data row10 col3\" >9.000000</td>\n",
       "      <td id=\"T_ebe44_row10_col4\" class=\"data row10 col4\" >10.000000</td>\n",
       "      <td id=\"T_ebe44_row10_col5\" class=\"data row10 col5\" >10.600000</td>\n",
       "      <td id=\"T_ebe44_row10_col6\" class=\"data row10 col6\" >11.100000</td>\n",
       "      <td id=\"T_ebe44_row10_col7\" class=\"data row10 col7\" >18.000000</td>\n",
       "    </tr>\n",
       "    <tr>\n",
       "      <th id=\"T_ebe44_level0_row11\" class=\"row_heading level0 row11\" >Stage</th>\n",
       "      <td id=\"T_ebe44_row11_col0\" class=\"data row11 col0\" >412.000000</td>\n",
       "      <td id=\"T_ebe44_row11_col1\" class=\"data row11 col1\" >3.024272</td>\n",
       "      <td id=\"T_ebe44_row11_col2\" class=\"data row11 col2\" >0.882042</td>\n",
       "      <td id=\"T_ebe44_row11_col3\" class=\"data row11 col3\" >1.000000</td>\n",
       "      <td id=\"T_ebe44_row11_col4\" class=\"data row11 col4\" >2.000000</td>\n",
       "      <td id=\"T_ebe44_row11_col5\" class=\"data row11 col5\" >3.000000</td>\n",
       "      <td id=\"T_ebe44_row11_col6\" class=\"data row11 col6\" >4.000000</td>\n",
       "      <td id=\"T_ebe44_row11_col7\" class=\"data row11 col7\" >4.000000</td>\n",
       "    </tr>\n",
       "  </tbody>\n",
       "</table>\n"
      ],
      "text/plain": [
       "<pandas.io.formats.style.Styler at 0x7fbe8e439fd0>"
      ]
     },
     "execution_count": 6,
     "metadata": {},
     "output_type": "execute_result"
    }
   ],
   "source": [
    "df.describe().transpose().style.background_gradient(cmap='GnBu')"
   ]
  },
  {
   "cell_type": "markdown",
   "id": "8758235c",
   "metadata": {
    "papermill": {
     "duration": 0.014889,
     "end_time": "2022-11-03T09:46:12.590591",
     "exception": false,
     "start_time": "2022-11-03T09:46:12.575702",
     "status": "completed"
    },
    "tags": []
   },
   "source": [
    "### B) Checking for Missing Values"
   ]
  },
  {
   "cell_type": "code",
   "execution_count": 7,
   "id": "90eb3c4a",
   "metadata": {
    "execution": {
     "iopub.execute_input": "2022-11-03T09:46:12.623604Z",
     "iopub.status.busy": "2022-11-03T09:46:12.623187Z",
     "iopub.status.idle": "2022-11-03T09:46:12.632955Z",
     "shell.execute_reply": "2022-11-03T09:46:12.631710Z"
    },
    "papermill": {
     "duration": 0.028843,
     "end_time": "2022-11-03T09:46:12.635057",
     "exception": false,
     "start_time": "2022-11-03T09:46:12.606214",
     "status": "completed"
    },
    "tags": []
   },
   "outputs": [
    {
     "data": {
      "text/plain": [
       "N_Days             0\n",
       "Status             0\n",
       "Drug             106\n",
       "Age                0\n",
       "Sex                0\n",
       "Ascites          106\n",
       "Hepatomegaly     106\n",
       "Spiders          106\n",
       "Edema              0\n",
       "Bilirubin          0\n",
       "Cholesterol      134\n",
       "Albumin            0\n",
       "Copper           108\n",
       "Alk_Phos         106\n",
       "SGOT             106\n",
       "Tryglicerides    136\n",
       "Platelets         11\n",
       "Prothrombin        2\n",
       "Stage              6\n",
       "dtype: int64"
      ]
     },
     "execution_count": 7,
     "metadata": {},
     "output_type": "execute_result"
    }
   ],
   "source": [
    "# Checking for % of Missing Values\n",
    "df.isnull().sum()"
   ]
  },
  {
   "cell_type": "code",
   "execution_count": 8,
   "id": "0c608bbf",
   "metadata": {
    "execution": {
     "iopub.execute_input": "2022-11-03T09:46:12.669124Z",
     "iopub.status.busy": "2022-11-03T09:46:12.668240Z",
     "iopub.status.idle": "2022-11-03T09:46:13.335917Z",
     "shell.execute_reply": "2022-11-03T09:46:13.334639Z"
    },
    "papermill": {
     "duration": 0.687905,
     "end_time": "2022-11-03T09:46:13.338512",
     "exception": false,
     "start_time": "2022-11-03T09:46:12.650607",
     "status": "completed"
    },
    "tags": []
   },
   "outputs": [
    {
     "data": {
      "text/plain": [
       "<AxesSubplot:>"
      ]
     },
     "execution_count": 8,
     "metadata": {},
     "output_type": "execute_result"
    },
    {
     "data": {
      "image/png": "[encoded data removed]",
      "text/plain": [
       "<Figure size 1080x360 with 2 Axes>"
      ]
     },
     "metadata": {
      "needs_background": "light"
     },
     "output_type": "display_data"
    }
   ],
   "source": [
    "plt.figure(figsize=(15,5))\n",
    "sns.heatmap(df.isnull(),cmap='BuPu',vmin=0.5, vmax=1)"
   ]
  },
  {
   "cell_type": "code",
   "execution_count": 9,
   "id": "e1be61a1",
   "metadata": {
    "execution": {
     "iopub.execute_input": "2022-11-03T09:46:13.373634Z",
     "iopub.status.busy": "2022-11-03T09:46:13.373130Z",
     "iopub.status.idle": "2022-11-03T09:46:13.385042Z",
     "shell.execute_reply": "2022-11-03T09:46:13.383739Z"
    },
    "papermill": {
     "duration": 0.033034,
     "end_time": "2022-11-03T09:46:13.388180",
     "exception": false,
     "start_time": "2022-11-03T09:46:13.355146",
     "status": "completed"
    },
    "tags": []
   },
   "outputs": [
    {
     "name": "stdout",
     "output_type": "stream",
     "text": [
      "Percentage of missing Values:  14.0\n"
     ]
    }
   ],
   "source": [
    "count_null = 0\n",
    "len_df = 0\n",
    "for col in df.columns:\n",
    "    null = 0\n",
    "    l = 0\n",
    "    null = df[col].isnull().sum()\n",
    "    l = len(df[col])\n",
    "    count_null=count_null + null\n",
    "    len_df = len_df + l\n",
    "print('Percentage of missing Values: ', np.ceil(100*count_null/len_df))"
   ]
  },
  {
   "cell_type": "code",
   "execution_count": 10,
   "id": "36f0502d",
   "metadata": {
    "execution": {
     "iopub.execute_input": "2022-11-03T09:46:13.424113Z",
     "iopub.status.busy": "2022-11-03T09:46:13.423692Z",
     "iopub.status.idle": "2022-11-03T09:46:13.443237Z",
     "shell.execute_reply": "2022-11-03T09:46:13.441982Z"
    },
    "papermill": {
     "duration": 0.04039,
     "end_time": "2022-11-03T09:46:13.445728",
     "exception": false,
     "start_time": "2022-11-03T09:46:13.405338",
     "status": "completed"
    },
    "tags": []
   },
   "outputs": [
    {
     "data": {
      "text/html": [
       "<style type=\"text/css\">\n",
       "#T_b616c_row0_col0 {\n",
       "  background-color: #ffff66;\n",
       "  color: #000000;\n",
       "}\n",
       "#T_b616c_row1_col0 {\n",
       "  background-color: #fcfe66;\n",
       "  color: #000000;\n",
       "}\n",
       "#T_b616c_row2_col0 {\n",
       "  background-color: #cbe566;\n",
       "  color: #000000;\n",
       "}\n",
       "#T_b616c_row3_col0, #T_b616c_row4_col0, #T_b616c_row5_col0, #T_b616c_row6_col0, #T_b616c_row7_col0, #T_b616c_row8_col0 {\n",
       "  background-color: #c7e366;\n",
       "  color: #000000;\n",
       "}\n",
       "#T_b616c_row9_col0 {\n",
       "  background-color: #148a66;\n",
       "  color: #f1f1f1;\n",
       "}\n",
       "#T_b616c_row10_col0 {\n",
       "  background-color: #0b8566;\n",
       "  color: #f1f1f1;\n",
       "}\n",
       "#T_b616c_row11_col0 {\n",
       "  background-color: #038166;\n",
       "  color: #f1f1f1;\n",
       "}\n",
       "#T_b616c_row12_col0, #T_b616c_row13_col0, #T_b616c_row14_col0, #T_b616c_row15_col0, #T_b616c_row16_col0, #T_b616c_row17_col0, #T_b616c_row18_col0 {\n",
       "  background-color: #008066;\n",
       "  color: #f1f1f1;\n",
       "}\n",
       "</style>\n",
       "<table id=\"T_b616c_\">\n",
       "  <thead>\n",
       "    <tr>\n",
       "      <th class=\"blank level0\" >&nbsp;</th>\n",
       "      <th class=\"col_heading level0 col0\" >percentage</th>\n",
       "    </tr>\n",
       "  </thead>\n",
       "  <tbody>\n",
       "    <tr>\n",
       "      <th id=\"T_b616c_level0_row0\" class=\"row_heading level0 row0\" >Tryglicerides</th>\n",
       "      <td id=\"T_b616c_row0_col0\" class=\"data row0 col0\" >32.535900</td>\n",
       "    </tr>\n",
       "    <tr>\n",
       "      <th id=\"T_b616c_level0_row1\" class=\"row_heading level0 row1\" >Cholesterol</th>\n",
       "      <td id=\"T_b616c_row1_col0\" class=\"data row1 col0\" >32.057400</td>\n",
       "    </tr>\n",
       "    <tr>\n",
       "      <th id=\"T_b616c_level0_row2\" class=\"row_heading level0 row2\" >Copper</th>\n",
       "      <td id=\"T_b616c_row2_col0\" class=\"data row2 col0\" >25.837300</td>\n",
       "    </tr>\n",
       "    <tr>\n",
       "      <th id=\"T_b616c_level0_row3\" class=\"row_heading level0 row3\" >Drug</th>\n",
       "      <td id=\"T_b616c_row3_col0\" class=\"data row3 col0\" >25.358900</td>\n",
       "    </tr>\n",
       "    <tr>\n",
       "      <th id=\"T_b616c_level0_row4\" class=\"row_heading level0 row4\" >Ascites</th>\n",
       "      <td id=\"T_b616c_row4_col0\" class=\"data row4 col0\" >25.358900</td>\n",
       "    </tr>\n",
       "    <tr>\n",
       "      <th id=\"T_b616c_level0_row5\" class=\"row_heading level0 row5\" >Hepatomegaly</th>\n",
       "      <td id=\"T_b616c_row5_col0\" class=\"data row5 col0\" >25.358900</td>\n",
       "    </tr>\n",
       "    <tr>\n",
       "      <th id=\"T_b616c_level0_row6\" class=\"row_heading level0 row6\" >Spiders</th>\n",
       "      <td id=\"T_b616c_row6_col0\" class=\"data row6 col0\" >25.358900</td>\n",
       "    </tr>\n",
       "    <tr>\n",
       "      <th id=\"T_b616c_level0_row7\" class=\"row_heading level0 row7\" >SGOT</th>\n",
       "      <td id=\"T_b616c_row7_col0\" class=\"data row7 col0\" >25.358900</td>\n",
       "    </tr>\n",
       "    <tr>\n",
       "      <th id=\"T_b616c_level0_row8\" class=\"row_heading level0 row8\" >Alk_Phos</th>\n",
       "      <td id=\"T_b616c_row8_col0\" class=\"data row8 col0\" >25.358900</td>\n",
       "    </tr>\n",
       "    <tr>\n",
       "      <th id=\"T_b616c_level0_row9\" class=\"row_heading level0 row9\" >Platelets</th>\n",
       "      <td id=\"T_b616c_row9_col0\" class=\"data row9 col0\" >2.631600</td>\n",
       "    </tr>\n",
       "    <tr>\n",
       "      <th id=\"T_b616c_level0_row10\" class=\"row_heading level0 row10\" >Stage</th>\n",
       "      <td id=\"T_b616c_row10_col0\" class=\"data row10 col0\" >1.435400</td>\n",
       "    </tr>\n",
       "    <tr>\n",
       "      <th id=\"T_b616c_level0_row11\" class=\"row_heading level0 row11\" >Prothrombin</th>\n",
       "      <td id=\"T_b616c_row11_col0\" class=\"data row11 col0\" >0.478500</td>\n",
       "    </tr>\n",
       "    <tr>\n",
       "      <th id=\"T_b616c_level0_row12\" class=\"row_heading level0 row12\" >N_Days</th>\n",
       "      <td id=\"T_b616c_row12_col0\" class=\"data row12 col0\" >0.000000</td>\n",
       "    </tr>\n",
       "    <tr>\n",
       "      <th id=\"T_b616c_level0_row13\" class=\"row_heading level0 row13\" >Albumin</th>\n",
       "      <td id=\"T_b616c_row13_col0\" class=\"data row13 col0\" >0.000000</td>\n",
       "    </tr>\n",
       "    <tr>\n",
       "      <th id=\"T_b616c_level0_row14\" class=\"row_heading level0 row14\" >Status</th>\n",
       "      <td id=\"T_b616c_row14_col0\" class=\"data row14 col0\" >0.000000</td>\n",
       "    </tr>\n",
       "    <tr>\n",
       "      <th id=\"T_b616c_level0_row15\" class=\"row_heading level0 row15\" >Edema</th>\n",
       "      <td id=\"T_b616c_row15_col0\" class=\"data row15 col0\" >0.000000</td>\n",
       "    </tr>\n",
       "    <tr>\n",
       "      <th id=\"T_b616c_level0_row16\" class=\"row_heading level0 row16\" >Sex</th>\n",
       "      <td id=\"T_b616c_row16_col0\" class=\"data row16 col0\" >0.000000</td>\n",
       "    </tr>\n",
       "    <tr>\n",
       "      <th id=\"T_b616c_level0_row17\" class=\"row_heading level0 row17\" >Age</th>\n",
       "      <td id=\"T_b616c_row17_col0\" class=\"data row17 col0\" >0.000000</td>\n",
       "    </tr>\n",
       "    <tr>\n",
       "      <th id=\"T_b616c_level0_row18\" class=\"row_heading level0 row18\" >Bilirubin</th>\n",
       "      <td id=\"T_b616c_row18_col0\" class=\"data row18 col0\" >0.000000</td>\n",
       "    </tr>\n",
       "  </tbody>\n",
       "</table>\n"
      ],
      "text/plain": [
       "<pandas.io.formats.style.Styler at 0x7fbe8a431650>"
      ]
     },
     "execution_count": 10,
     "metadata": {},
     "output_type": "execute_result"
    }
   ],
   "source": [
    "df_missing_values = pd.DataFrame({'percentage':round((df.isnull().mean())*100,4)})      \n",
    "df_missing_values.sort_values(by = 'percentage', ascending = False).style.background_gradient(cmap='summer')"
   ]
  },
  {
   "cell_type": "code",
   "execution_count": 11,
   "id": "6487f09e",
   "metadata": {
    "execution": {
     "iopub.execute_input": "2022-11-03T09:46:13.481337Z",
     "iopub.status.busy": "2022-11-03T09:46:13.480964Z",
     "iopub.status.idle": "2022-11-03T09:46:13.488992Z",
     "shell.execute_reply": "2022-11-03T09:46:13.487726Z"
    },
    "papermill": {
     "duration": 0.028508,
     "end_time": "2022-11-03T09:46:13.491509",
     "exception": false,
     "start_time": "2022-11-03T09:46:13.463001",
     "status": "completed"
    },
    "tags": []
   },
   "outputs": [],
   "source": [
    "categorical_col = df.select_dtypes([\"object\"]).columns\n",
    "numerical_col = df.select_dtypes([\"float64\",\"int64\"]).columns"
   ]
  },
  {
   "cell_type": "markdown",
   "id": "9ad29684",
   "metadata": {
    "papermill": {
     "duration": 0.016012,
     "end_time": "2022-11-03T09:46:13.524095",
     "exception": false,
     "start_time": "2022-11-03T09:46:13.508083",
     "status": "completed"
    },
    "tags": []
   },
   "source": [
    "### C) Handling Missing Values\n",
    "- Impute Mean/Median value for numerical columns and Mode value for categorical columns."
   ]
  },
  {
   "cell_type": "code",
   "execution_count": 12,
   "id": "efde2508",
   "metadata": {
    "execution": {
     "iopub.execute_input": "2022-11-03T09:46:13.559745Z",
     "iopub.status.busy": "2022-11-03T09:46:13.559313Z",
     "iopub.status.idle": "2022-11-03T09:46:13.569824Z",
     "shell.execute_reply": "2022-11-03T09:46:13.568528Z"
    },
    "papermill": {
     "duration": 0.031651,
     "end_time": "2022-11-03T09:46:13.572176",
     "exception": false,
     "start_time": "2022-11-03T09:46:13.540525",
     "status": "completed"
    },
    "tags": []
   },
   "outputs": [],
   "source": [
    "for j in categorical_col:\n",
    "    df[j].fillna(df[j].mode().values[0], inplace=True)"
   ]
  },
  {
   "cell_type": "code",
   "execution_count": 13,
   "id": "0999b800",
   "metadata": {
    "execution": {
     "iopub.execute_input": "2022-11-03T09:46:13.606851Z",
     "iopub.status.busy": "2022-11-03T09:46:13.606443Z",
     "iopub.status.idle": "2022-11-03T09:46:13.623504Z",
     "shell.execute_reply": "2022-11-03T09:46:13.622373Z"
    },
    "papermill": {
     "duration": 0.037043,
     "end_time": "2022-11-03T09:46:13.625873",
     "exception": false,
     "start_time": "2022-11-03T09:46:13.588830",
     "status": "completed"
    },
    "tags": []
   },
   "outputs": [
    {
     "data": {
      "text/plain": [
       "N_Days           0\n",
       "Status           0\n",
       "Drug             0\n",
       "Age              0\n",
       "Sex              0\n",
       "Ascites          0\n",
       "Hepatomegaly     0\n",
       "Spiders          0\n",
       "Edema            0\n",
       "Bilirubin        0\n",
       "Cholesterol      0\n",
       "Albumin          0\n",
       "Copper           0\n",
       "Alk_Phos         0\n",
       "SGOT             0\n",
       "Tryglicerides    0\n",
       "Platelets        0\n",
       "Prothrombin      0\n",
       "Stage            0\n",
       "dtype: int64"
      ]
     },
     "execution_count": 13,
     "metadata": {},
     "output_type": "execute_result"
    }
   ],
   "source": [
    "for j in numerical_col:\n",
    "    df[j].fillna(df[j].median(), inplace=True)\n",
    "df.isnull().sum()"
   ]
  },
  {
   "cell_type": "code",
   "execution_count": 14,
   "id": "2f5d24e3",
   "metadata": {
    "execution": {
     "iopub.execute_input": "2022-11-03T09:46:13.662503Z",
     "iopub.status.busy": "2022-11-03T09:46:13.661330Z",
     "iopub.status.idle": "2022-11-03T09:46:13.670088Z",
     "shell.execute_reply": "2022-11-03T09:46:13.669102Z"
    },
    "papermill": {
     "duration": 0.029751,
     "end_time": "2022-11-03T09:46:13.672446",
     "exception": false,
     "start_time": "2022-11-03T09:46:13.642695",
     "status": "completed"
    },
    "tags": []
   },
   "outputs": [],
   "source": [
    "# As we can see there are some null values in target(stage) feature lets drop it\n",
    "df.drop(df[df['Stage'].isnull()].index, inplace=True)"
   ]
  },
  {
   "cell_type": "code",
   "execution_count": 15,
   "id": "91d10100",
   "metadata": {
    "execution": {
     "iopub.execute_input": "2022-11-03T09:46:13.708193Z",
     "iopub.status.busy": "2022-11-03T09:46:13.707066Z",
     "iopub.status.idle": "2022-11-03T09:46:13.743817Z",
     "shell.execute_reply": "2022-11-03T09:46:13.742501Z"
    },
    "papermill": {
     "duration": 0.057201,
     "end_time": "2022-11-03T09:46:13.746375",
     "exception": false,
     "start_time": "2022-11-03T09:46:13.689174",
     "status": "completed"
    },
    "tags": []
   },
   "outputs": [
    {
     "name": "stdout",
     "output_type": "stream",
     "text": [
      "Shape of dataset after handlig null values (418, 19)\n"
     ]
    },
    {
     "data": {
      "text/html": [
       "<div>\n",
       "<style scoped>\n",
       "    .dataframe tbody tr th:only-of-type {\n",
       "        vertical-align: middle;\n",
       "    }\n",
       "\n",
       "    .dataframe tbody tr th {\n",
       "        vertical-align: top;\n",
       "    }\n",
       "\n",
       "    .dataframe thead th {\n",
       "        text-align: right;\n",
       "    }\n",
       "</style>\n",
       "<table border=\"1\" class=\"dataframe\">\n",
       "  <thead>\n",
       "    <tr style=\"text-align: right;\">\n",
       "      <th></th>\n",
       "      <th>N_Days</th>\n",
       "      <th>Status</th>\n",
       "      <th>Drug</th>\n",
       "      <th>Age</th>\n",
       "      <th>Sex</th>\n",
       "      <th>Ascites</th>\n",
       "      <th>Hepatomegaly</th>\n",
       "      <th>Spiders</th>\n",
       "      <th>Edema</th>\n",
       "      <th>Bilirubin</th>\n",
       "      <th>Cholesterol</th>\n",
       "      <th>Albumin</th>\n",
       "      <th>Copper</th>\n",
       "      <th>Alk_Phos</th>\n",
       "      <th>SGOT</th>\n",
       "      <th>Tryglicerides</th>\n",
       "      <th>Platelets</th>\n",
       "      <th>Prothrombin</th>\n",
       "      <th>Stage</th>\n",
       "    </tr>\n",
       "  </thead>\n",
       "  <tbody>\n",
       "    <tr>\n",
       "      <th>0</th>\n",
       "      <td>400</td>\n",
       "      <td>D</td>\n",
       "      <td>D-penicillamine</td>\n",
       "      <td>58</td>\n",
       "      <td>F</td>\n",
       "      <td>Y</td>\n",
       "      <td>Y</td>\n",
       "      <td>Y</td>\n",
       "      <td>Y</td>\n",
       "      <td>14.5</td>\n",
       "      <td>261.0</td>\n",
       "      <td>2.60</td>\n",
       "      <td>156.0</td>\n",
       "      <td>1718.0</td>\n",
       "      <td>137.95</td>\n",
       "      <td>172.0</td>\n",
       "      <td>190.0</td>\n",
       "      <td>12.2</td>\n",
       "      <td>4.0</td>\n",
       "    </tr>\n",
       "    <tr>\n",
       "      <th>1</th>\n",
       "      <td>4500</td>\n",
       "      <td>C</td>\n",
       "      <td>D-penicillamine</td>\n",
       "      <td>56</td>\n",
       "      <td>F</td>\n",
       "      <td>N</td>\n",
       "      <td>Y</td>\n",
       "      <td>Y</td>\n",
       "      <td>N</td>\n",
       "      <td>1.1</td>\n",
       "      <td>302.0</td>\n",
       "      <td>4.14</td>\n",
       "      <td>54.0</td>\n",
       "      <td>7394.8</td>\n",
       "      <td>113.52</td>\n",
       "      <td>88.0</td>\n",
       "      <td>221.0</td>\n",
       "      <td>10.6</td>\n",
       "      <td>3.0</td>\n",
       "    </tr>\n",
       "    <tr>\n",
       "      <th>2</th>\n",
       "      <td>1012</td>\n",
       "      <td>D</td>\n",
       "      <td>D-penicillamine</td>\n",
       "      <td>70</td>\n",
       "      <td>M</td>\n",
       "      <td>N</td>\n",
       "      <td>N</td>\n",
       "      <td>N</td>\n",
       "      <td>S</td>\n",
       "      <td>1.4</td>\n",
       "      <td>176.0</td>\n",
       "      <td>3.48</td>\n",
       "      <td>210.0</td>\n",
       "      <td>516.0</td>\n",
       "      <td>96.10</td>\n",
       "      <td>55.0</td>\n",
       "      <td>151.0</td>\n",
       "      <td>12.0</td>\n",
       "      <td>4.0</td>\n",
       "    </tr>\n",
       "    <tr>\n",
       "      <th>3</th>\n",
       "      <td>1925</td>\n",
       "      <td>D</td>\n",
       "      <td>D-penicillamine</td>\n",
       "      <td>54</td>\n",
       "      <td>F</td>\n",
       "      <td>N</td>\n",
       "      <td>Y</td>\n",
       "      <td>Y</td>\n",
       "      <td>S</td>\n",
       "      <td>1.8</td>\n",
       "      <td>244.0</td>\n",
       "      <td>2.54</td>\n",
       "      <td>64.0</td>\n",
       "      <td>6121.8</td>\n",
       "      <td>60.63</td>\n",
       "      <td>92.0</td>\n",
       "      <td>183.0</td>\n",
       "      <td>10.3</td>\n",
       "      <td>4.0</td>\n",
       "    </tr>\n",
       "    <tr>\n",
       "      <th>4</th>\n",
       "      <td>1504</td>\n",
       "      <td>CL</td>\n",
       "      <td>Placebo</td>\n",
       "      <td>38</td>\n",
       "      <td>F</td>\n",
       "      <td>N</td>\n",
       "      <td>Y</td>\n",
       "      <td>Y</td>\n",
       "      <td>N</td>\n",
       "      <td>3.4</td>\n",
       "      <td>279.0</td>\n",
       "      <td>3.53</td>\n",
       "      <td>143.0</td>\n",
       "      <td>671.0</td>\n",
       "      <td>113.15</td>\n",
       "      <td>72.0</td>\n",
       "      <td>136.0</td>\n",
       "      <td>10.9</td>\n",
       "      <td>3.0</td>\n",
       "    </tr>\n",
       "    <tr>\n",
       "      <th>...</th>\n",
       "      <td>...</td>\n",
       "      <td>...</td>\n",
       "      <td>...</td>\n",
       "      <td>...</td>\n",
       "      <td>...</td>\n",
       "      <td>...</td>\n",
       "      <td>...</td>\n",
       "      <td>...</td>\n",
       "      <td>...</td>\n",
       "      <td>...</td>\n",
       "      <td>...</td>\n",
       "      <td>...</td>\n",
       "      <td>...</td>\n",
       "      <td>...</td>\n",
       "      <td>...</td>\n",
       "      <td>...</td>\n",
       "      <td>...</td>\n",
       "      <td>...</td>\n",
       "      <td>...</td>\n",
       "    </tr>\n",
       "    <tr>\n",
       "      <th>413</th>\n",
       "      <td>681</td>\n",
       "      <td>D</td>\n",
       "      <td>D-penicillamine</td>\n",
       "      <td>67</td>\n",
       "      <td>F</td>\n",
       "      <td>N</td>\n",
       "      <td>Y</td>\n",
       "      <td>N</td>\n",
       "      <td>N</td>\n",
       "      <td>1.2</td>\n",
       "      <td>309.5</td>\n",
       "      <td>2.96</td>\n",
       "      <td>73.0</td>\n",
       "      <td>1259.0</td>\n",
       "      <td>114.70</td>\n",
       "      <td>108.0</td>\n",
       "      <td>174.0</td>\n",
       "      <td>10.9</td>\n",
       "      <td>3.0</td>\n",
       "    </tr>\n",
       "    <tr>\n",
       "      <th>414</th>\n",
       "      <td>1103</td>\n",
       "      <td>C</td>\n",
       "      <td>D-penicillamine</td>\n",
       "      <td>39</td>\n",
       "      <td>F</td>\n",
       "      <td>N</td>\n",
       "      <td>Y</td>\n",
       "      <td>N</td>\n",
       "      <td>N</td>\n",
       "      <td>0.9</td>\n",
       "      <td>309.5</td>\n",
       "      <td>3.83</td>\n",
       "      <td>73.0</td>\n",
       "      <td>1259.0</td>\n",
       "      <td>114.70</td>\n",
       "      <td>108.0</td>\n",
       "      <td>180.0</td>\n",
       "      <td>11.2</td>\n",
       "      <td>4.0</td>\n",
       "    </tr>\n",
       "    <tr>\n",
       "      <th>415</th>\n",
       "      <td>1055</td>\n",
       "      <td>C</td>\n",
       "      <td>D-penicillamine</td>\n",
       "      <td>57</td>\n",
       "      <td>F</td>\n",
       "      <td>N</td>\n",
       "      <td>Y</td>\n",
       "      <td>N</td>\n",
       "      <td>N</td>\n",
       "      <td>1.6</td>\n",
       "      <td>309.5</td>\n",
       "      <td>3.42</td>\n",
       "      <td>73.0</td>\n",
       "      <td>1259.0</td>\n",
       "      <td>114.70</td>\n",
       "      <td>108.0</td>\n",
       "      <td>143.0</td>\n",
       "      <td>9.9</td>\n",
       "      <td>3.0</td>\n",
       "    </tr>\n",
       "    <tr>\n",
       "      <th>416</th>\n",
       "      <td>691</td>\n",
       "      <td>C</td>\n",
       "      <td>D-penicillamine</td>\n",
       "      <td>58</td>\n",
       "      <td>F</td>\n",
       "      <td>N</td>\n",
       "      <td>Y</td>\n",
       "      <td>N</td>\n",
       "      <td>N</td>\n",
       "      <td>0.8</td>\n",
       "      <td>309.5</td>\n",
       "      <td>3.75</td>\n",
       "      <td>73.0</td>\n",
       "      <td>1259.0</td>\n",
       "      <td>114.70</td>\n",
       "      <td>108.0</td>\n",
       "      <td>269.0</td>\n",
       "      <td>10.4</td>\n",
       "      <td>3.0</td>\n",
       "    </tr>\n",
       "    <tr>\n",
       "      <th>417</th>\n",
       "      <td>976</td>\n",
       "      <td>C</td>\n",
       "      <td>D-penicillamine</td>\n",
       "      <td>53</td>\n",
       "      <td>F</td>\n",
       "      <td>N</td>\n",
       "      <td>Y</td>\n",
       "      <td>N</td>\n",
       "      <td>N</td>\n",
       "      <td>0.7</td>\n",
       "      <td>309.5</td>\n",
       "      <td>3.29</td>\n",
       "      <td>73.0</td>\n",
       "      <td>1259.0</td>\n",
       "      <td>114.70</td>\n",
       "      <td>108.0</td>\n",
       "      <td>350.0</td>\n",
       "      <td>10.6</td>\n",
       "      <td>4.0</td>\n",
       "    </tr>\n",
       "  </tbody>\n",
       "</table>\n",
       "<p>418 rows × 19 columns</p>\n",
       "</div>"
      ],
      "text/plain": [
       "     N_Days Status             Drug  Age Sex Ascites Hepatomegaly Spiders  \\\n",
       "0       400      D  D-penicillamine   58   F       Y            Y       Y   \n",
       "1      4500      C  D-penicillamine   56   F       N            Y       Y   \n",
       "2      1012      D  D-penicillamine   70   M       N            N       N   \n",
       "3      1925      D  D-penicillamine   54   F       N            Y       Y   \n",
       "4      1504     CL          Placebo   38   F       N            Y       Y   \n",
       "..      ...    ...              ...  ...  ..     ...          ...     ...   \n",
       "413     681      D  D-penicillamine   67   F       N            Y       N   \n",
       "414    1103      C  D-penicillamine   39   F       N            Y       N   \n",
       "415    1055      C  D-penicillamine   57   F       N            Y       N   \n",
       "416     691      C  D-penicillamine   58   F       N            Y       N   \n",
       "417     976      C  D-penicillamine   53   F       N            Y       N   \n",
       "\n",
       "    Edema  Bilirubin  Cholesterol  Albumin  Copper  Alk_Phos    SGOT  \\\n",
       "0       Y       14.5        261.0     2.60   156.0    1718.0  137.95   \n",
       "1       N        1.1        302.0     4.14    54.0    7394.8  113.52   \n",
       "2       S        1.4        176.0     3.48   210.0     516.0   96.10   \n",
       "3       S        1.8        244.0     2.54    64.0    6121.8   60.63   \n",
       "4       N        3.4        279.0     3.53   143.0     671.0  113.15   \n",
       "..    ...        ...          ...      ...     ...       ...     ...   \n",
       "413     N        1.2        309.5     2.96    73.0    1259.0  114.70   \n",
       "414     N        0.9        309.5     3.83    73.0    1259.0  114.70   \n",
       "415     N        1.6        309.5     3.42    73.0    1259.0  114.70   \n",
       "416     N        0.8        309.5     3.75    73.0    1259.0  114.70   \n",
       "417     N        0.7        309.5     3.29    73.0    1259.0  114.70   \n",
       "\n",
       "     Tryglicerides  Platelets  Prothrombin  Stage  \n",
       "0            172.0      190.0         12.2    4.0  \n",
       "1             88.0      221.0         10.6    3.0  \n",
       "2             55.0      151.0         12.0    4.0  \n",
       "3             92.0      183.0         10.3    4.0  \n",
       "4             72.0      136.0         10.9    3.0  \n",
       "..             ...        ...          ...    ...  \n",
       "413          108.0      174.0         10.9    3.0  \n",
       "414          108.0      180.0         11.2    4.0  \n",
       "415          108.0      143.0          9.9    3.0  \n",
       "416          108.0      269.0         10.4    3.0  \n",
       "417          108.0      350.0         10.6    4.0  \n",
       "\n",
       "[418 rows x 19 columns]"
      ]
     },
     "execution_count": 15,
     "metadata": {},
     "output_type": "execute_result"
    }
   ],
   "source": [
    "print(\"Shape of dataset after handlig null values\",df.shape)\n",
    "df"
   ]
  },
  {
   "cell_type": "markdown",
   "id": "380b4d13",
   "metadata": {
    "papermill": {
     "duration": 0.01694,
     "end_time": "2022-11-03T09:46:13.780741",
     "exception": false,
     "start_time": "2022-11-03T09:46:13.763801",
     "status": "completed"
    },
    "tags": []
   },
   "source": [
    "### D) Handling Outliers"
   ]
  },
  {
   "cell_type": "code",
   "execution_count": 16,
   "id": "ea7f1e07",
   "metadata": {
    "execution": {
     "iopub.execute_input": "2022-11-03T09:46:13.817442Z",
     "iopub.status.busy": "2022-11-03T09:46:13.817017Z",
     "iopub.status.idle": "2022-11-03T09:46:13.824552Z",
     "shell.execute_reply": "2022-11-03T09:46:13.823308Z"
    },
    "papermill": {
     "duration": 0.028752,
     "end_time": "2022-11-03T09:46:13.826753",
     "exception": false,
     "start_time": "2022-11-03T09:46:13.798001",
     "status": "completed"
    },
    "scrolled": true,
    "tags": []
   },
   "outputs": [
    {
     "data": {
      "text/plain": [
       "Index(['N_Days', 'Age', 'Bilirubin', 'Cholesterol', 'Albumin', 'Copper',\n",
       "       'Alk_Phos', 'SGOT', 'Tryglicerides', 'Platelets', 'Prothrombin',\n",
       "       'Stage'],\n",
       "      dtype='object')"
      ]
     },
     "execution_count": 16,
     "metadata": {},
     "output_type": "execute_result"
    }
   ],
   "source": [
    "numerical_col"
   ]
  },
  {
   "cell_type": "code",
   "execution_count": 17,
   "id": "70268a53",
   "metadata": {
    "execution": {
     "iopub.execute_input": "2022-11-03T09:46:13.863094Z",
     "iopub.status.busy": "2022-11-03T09:46:13.862687Z",
     "iopub.status.idle": "2022-11-03T09:46:15.120315Z",
     "shell.execute_reply": "2022-11-03T09:46:15.119410Z"
    },
    "papermill": {
     "duration": 1.278651,
     "end_time": "2022-11-03T09:46:15.122837",
     "exception": false,
     "start_time": "2022-11-03T09:46:13.844186",
     "status": "completed"
    },
    "tags": []
   },
   "outputs": [
    {
     "data": {
      "image/png": "[encoded data removed]",
      "text/plain": [
       "<Figure size 432x288 with 1 Axes>"
      ]
     },
     "metadata": {
      "needs_background": "light"
     },
     "output_type": "display_data"
    },
    {
     "data": {
      "image/png": "[encoded data removed]",
      "text/plain": [
       "<Figure size 432x288 with 1 Axes>"
      ]
     },
     "metadata": {
      "needs_background": "light"
     },
     "output_type": "display_data"
    },
    {
     "data": {
      "image/png": "[encoded data removed]",
      "text/plain": [
       "<Figure size 432x288 with 1 Axes>"
      ]
     },
     "metadata": {
      "needs_background": "light"
     },
     "output_type": "display_data"
    },
    {
     "data": {
      "image/png": "[encoded data removed]",
      "text/plain": [
       "<Figure size 432x288 with 1 Axes>"
      ]
     },
     "metadata": {
      "needs_background": "light"
     },
     "output_type": "display_data"
    },
    {
     "data": {
      "image/png": "[encoded data removed]",
      "text/plain": [
       "<Figure size 432x288 with 1 Axes>"
      ]
     },
     "metadata": {
      "needs_background": "light"
     },
     "output_type": "display_data"
    },
    {
     "data": {
      "image/png": "[encoded data removed]",
      "text/plain": [
       "<Figure size 432x288 with 1 Axes>"
      ]
     },
     "metadata": {
      "needs_background": "light"
     },
     "output_type": "display_data"
    },
    {
     "data": {
      "image/png": "[encoded data removed]",
      "text/plain": [
       "<Figure size 432x288 with 1 Axes>"
      ]
     },
     "metadata": {
      "needs_background": "light"
     },
     "output_type": "display_data"
    },
    {
     "data": {
      "image/png": "[encoded data removed]",
      "text/plain": [
       "<Figure size 432x288 with 1 Axes>"
      ]
     },
     "metadata": {
      "needs_background": "light"
     },
     "output_type": "display_data"
    },
    {
     "data": {
      "image/png": "[encoded data removed]",
      "text/plain": [
       "<Figure size 432x288 with 1 Axes>"
      ]
     },
     "metadata": {
      "needs_background": "light"
     },
     "output_type": "display_data"
    },
    {
     "data": {
      "image/png": "[encoded data removed]",
      "text/plain": [
       "<Figure size 432x288 with 1 Axes>"
      ]
     },
     "metadata": {
      "needs_background": "light"
     },
     "output_type": "display_data"
    },
    {
     "data": {
      "image/png": "[encoded data removed]",
      "text/plain": [
       "<Figure size 432x288 with 1 Axes>"
      ]
     },
     "metadata": {
      "needs_background": "light"
     },
     "output_type": "display_data"
    },
    {
     "data": {
      "image/png": "[encoded data removed]",
      "text/plain": [
       "<Figure size 432x288 with 1 Axes>"
      ]
     },
     "metadata": {
      "needs_background": "light"
     },
     "output_type": "display_data"
    }
   ],
   "source": [
    "for i in numerical_col:\n",
    "    sns.boxplot(x=df[i],data=df,orient=\"v\")\n",
    "    plt.title(i)\n",
    "    plt.show()"
   ]
  },
  {
   "cell_type": "code",
   "execution_count": 18,
   "id": "a66f6131",
   "metadata": {
    "execution": {
     "iopub.execute_input": "2022-11-03T09:46:15.166017Z",
     "iopub.status.busy": "2022-11-03T09:46:15.164760Z",
     "iopub.status.idle": "2022-11-03T09:46:15.205245Z",
     "shell.execute_reply": "2022-11-03T09:46:15.203921Z"
    },
    "papermill": {
     "duration": 0.06518,
     "end_time": "2022-11-03T09:46:15.208208",
     "exception": false,
     "start_time": "2022-11-03T09:46:15.143028",
     "status": "completed"
    },
    "tags": []
   },
   "outputs": [
    {
     "data": {
      "text/plain": [
       "(418, 19)"
      ]
     },
     "execution_count": 18,
     "metadata": {},
     "output_type": "execute_result"
    }
   ],
   "source": [
    "for col in numerical_col:\n",
    "    q3=df[col].quantile(0.75).round(4)\n",
    "    q1=df[col].quantile(0.25).round(4)\n",
    "    upper_lim = round(q3 + 1.5*(q3-q1),4)\n",
    "    lower_lim = round(q1 - 1.5*(q3-q1),4)\n",
    "    df = df[(df[col] < upper_lim)| (df[col] > lower_lim)]\n",
    "df.shape\n",
    "    "
   ]
  },
  {
   "cell_type": "code",
   "execution_count": 19,
   "id": "39614f4d",
   "metadata": {
    "execution": {
     "iopub.execute_input": "2022-11-03T09:46:15.249315Z",
     "iopub.status.busy": "2022-11-03T09:46:15.248906Z",
     "iopub.status.idle": "2022-11-03T09:46:16.651319Z",
     "shell.execute_reply": "2022-11-03T09:46:16.650374Z"
    },
    "papermill": {
     "duration": 1.426093,
     "end_time": "2022-11-03T09:46:16.653883",
     "exception": false,
     "start_time": "2022-11-03T09:46:15.227790",
     "status": "completed"
    },
    "tags": []
   },
   "outputs": [
    {
     "data": {
      "image/png": "[encoded data removed]",
      "text/plain": [
       "<Figure size 432x288 with 1 Axes>"
      ]
     },
     "metadata": {
      "needs_background": "light"
     },
     "output_type": "display_data"
    },
    {
     "data": {
      "image/png": "[encoded data removed]",
      "text/plain": [
       "<Figure size 432x288 with 1 Axes>"
      ]
     },
     "metadata": {
      "needs_background": "light"
     },
     "output_type": "display_data"
    },
    {
     "data": {
      "image/png": "[encoded data removed]",
      "text/plain": [
       "<Figure size 432x288 with 1 Axes>"
      ]
     },
     "metadata": {
      "needs_background": "light"
     },
     "output_type": "display_data"
    },
    {
     "data": {
      "image/png": "[encoded data removed]",
      "text/plain": [
       "<Figure size 432x288 with 1 Axes>"
      ]
     },
     "metadata": {
      "needs_background": "light"
     },
     "output_type": "display_data"
    },
    {
     "data": {
      "image/png": "[encoded data removed]",
      "text/plain": [
       "<Figure size 432x288 with 1 Axes>"
      ]
     },
     "metadata": {
      "needs_background": "light"
     },
     "output_type": "display_data"
    },
    {
     "data": {
      "image/png": "[encoded data removed]",
      "text/plain": [
       "<Figure size 432x288 with 1 Axes>"
      ]
     },
     "metadata": {
      "needs_background": "light"
     },
     "output_type": "display_data"
    },
    {
     "data": {
      "image/png": "[encoded data removed]",
      "text/plain": [
       "<Figure size 432x288 with 1 Axes>"
      ]
     },
     "metadata": {
      "needs_background": "light"
     },
     "output_type": "display_data"
    },
    {
     "data": {
      "image/png": "[encoded data removed]",
      "text/plain": [
       "<Figure size 432x288 with 1 Axes>"
      ]
     },
     "metadata": {
      "needs_background": "light"
     },
     "output_type": "display_data"
    },
    {
     "data": {
      "image/png": "[encoded data removed]",
      "text/plain": [
       "<Figure size 432x288 with 1 Axes>"
      ]
     },
     "metadata": {
      "needs_background": "light"
     },
     "output_type": "display_data"
    },
    {
     "data": {
      "image/png": "[encoded data removed]",
      "text/plain": [
       "<Figure size 432x288 with 1 Axes>"
      ]
     },
     "metadata": {
      "needs_background": "light"
     },
     "output_type": "display_data"
    },
    {
     "data": {
      "image/png": "[encoded data removed]",
      "text/plain": [
       "<Figure size 432x288 with 1 Axes>"
      ]
     },
     "metadata": {
      "needs_background": "light"
     },
     "output_type": "display_data"
    },
    {
     "data": {
      "image/png": "[encoded data removed]",
      "text/plain": [
       "<Figure size 432x288 with 1 Axes>"
      ]
     },
     "metadata": {
      "needs_background": "light"
     },
     "output_type": "display_data"
    }
   ],
   "source": [
    "for i in numerical_col:\n",
    "    sns.boxplot(x=df[i],data=df,orient=\"v\")\n",
    "    plt.title(i)\n",
    "    plt.show()"
   ]
  },
  {
   "cell_type": "code",
   "execution_count": 20,
   "id": "9f81f33f",
   "metadata": {
    "execution": {
     "iopub.execute_input": "2022-11-03T09:46:16.704149Z",
     "iopub.status.busy": "2022-11-03T09:46:16.703305Z",
     "iopub.status.idle": "2022-11-03T09:46:17.811264Z",
     "shell.execute_reply": "2022-11-03T09:46:17.810088Z"
    },
    "papermill": {
     "duration": 1.136266,
     "end_time": "2022-11-03T09:46:17.814001",
     "exception": false,
     "start_time": "2022-11-03T09:46:16.677735",
     "status": "completed"
    },
    "tags": []
   },
   "outputs": [
    {
     "data": {
      "text/plain": [
       "<AxesSubplot:>"
      ]
     },
     "execution_count": 20,
     "metadata": {},
     "output_type": "execute_result"
    },
    {
     "data": {
      "image/png": "[encoded data removed]",
      "text/plain": [
       "<Figure size 720x720 with 2 Axes>"
      ]
     },
     "metadata": {
      "needs_background": "light"
     },
     "output_type": "display_data"
    }
   ],
   "source": [
    "#  correlation between features and with target, ignore ID column\n",
    "plt.figure(figsize=(10,10))\n",
    "sns.heatmap(df.corr(), cmap=\"RdBu\", annot=True)"
   ]
  },
  {
   "cell_type": "code",
   "execution_count": 21,
   "id": "03061f4c",
   "metadata": {
    "execution": {
     "iopub.execute_input": "2022-11-03T09:46:17.863285Z",
     "iopub.status.busy": "2022-11-03T09:46:17.862878Z",
     "iopub.status.idle": "2022-11-03T09:46:17.871252Z",
     "shell.execute_reply": "2022-11-03T09:46:17.870292Z"
    },
    "papermill": {
     "duration": 0.035912,
     "end_time": "2022-11-03T09:46:17.873698",
     "exception": false,
     "start_time": "2022-11-03T09:46:17.837786",
     "status": "completed"
    },
    "tags": []
   },
   "outputs": [
    {
     "data": {
      "text/plain": [
       "(418, 19)"
      ]
     },
     "execution_count": 21,
     "metadata": {},
     "output_type": "execute_result"
    }
   ],
   "source": [
    "# we want 2 target values instead of 4\n",
    "# 0 means no cirrhosis\n",
    "# 1 means cirrhosis\n",
    "#replace stage 4 as 1(positive) and rest of the stages in to 0(negative)\n",
    "df['Stage'] = np.where(df['Stage'] == 4,1,0)\n",
    "df.shape"
   ]
  },
  {
   "cell_type": "code",
   "execution_count": 22,
   "id": "afc34355",
   "metadata": {
    "execution": {
     "iopub.execute_input": "2022-11-03T09:46:17.924099Z",
     "iopub.status.busy": "2022-11-03T09:46:17.923419Z",
     "iopub.status.idle": "2022-11-03T09:46:17.957467Z",
     "shell.execute_reply": "2022-11-03T09:46:17.956265Z"
    },
    "papermill": {
     "duration": 0.062214,
     "end_time": "2022-11-03T09:46:17.959982",
     "exception": false,
     "start_time": "2022-11-03T09:46:17.897768",
     "status": "completed"
    },
    "tags": []
   },
   "outputs": [
    {
     "data": {
      "text/html": [
       "<div>\n",
       "<style scoped>\n",
       "    .dataframe tbody tr th:only-of-type {\n",
       "        vertical-align: middle;\n",
       "    }\n",
       "\n",
       "    .dataframe tbody tr th {\n",
       "        vertical-align: top;\n",
       "    }\n",
       "\n",
       "    .dataframe thead th {\n",
       "        text-align: right;\n",
       "    }\n",
       "</style>\n",
       "<table border=\"1\" class=\"dataframe\">\n",
       "  <thead>\n",
       "    <tr style=\"text-align: right;\">\n",
       "      <th></th>\n",
       "      <th>N_Days</th>\n",
       "      <th>Status</th>\n",
       "      <th>Drug</th>\n",
       "      <th>Age</th>\n",
       "      <th>Sex</th>\n",
       "      <th>Ascites</th>\n",
       "      <th>Hepatomegaly</th>\n",
       "      <th>Spiders</th>\n",
       "      <th>Edema</th>\n",
       "      <th>Bilirubin</th>\n",
       "      <th>Cholesterol</th>\n",
       "      <th>Albumin</th>\n",
       "      <th>Copper</th>\n",
       "      <th>Alk_Phos</th>\n",
       "      <th>SGOT</th>\n",
       "      <th>Tryglicerides</th>\n",
       "      <th>Platelets</th>\n",
       "      <th>Prothrombin</th>\n",
       "      <th>Stage</th>\n",
       "    </tr>\n",
       "  </thead>\n",
       "  <tbody>\n",
       "    <tr>\n",
       "      <th>1</th>\n",
       "      <td>4500</td>\n",
       "      <td>C</td>\n",
       "      <td>D-penicillamine</td>\n",
       "      <td>56</td>\n",
       "      <td>F</td>\n",
       "      <td>N</td>\n",
       "      <td>Y</td>\n",
       "      <td>Y</td>\n",
       "      <td>N</td>\n",
       "      <td>1.1</td>\n",
       "      <td>302.0</td>\n",
       "      <td>4.14</td>\n",
       "      <td>54.0</td>\n",
       "      <td>7394.8</td>\n",
       "      <td>113.52</td>\n",
       "      <td>88.0</td>\n",
       "      <td>221.0</td>\n",
       "      <td>10.6</td>\n",
       "      <td>0</td>\n",
       "    </tr>\n",
       "    <tr>\n",
       "      <th>4</th>\n",
       "      <td>1504</td>\n",
       "      <td>CL</td>\n",
       "      <td>Placebo</td>\n",
       "      <td>38</td>\n",
       "      <td>F</td>\n",
       "      <td>N</td>\n",
       "      <td>Y</td>\n",
       "      <td>Y</td>\n",
       "      <td>N</td>\n",
       "      <td>3.4</td>\n",
       "      <td>279.0</td>\n",
       "      <td>3.53</td>\n",
       "      <td>143.0</td>\n",
       "      <td>671.0</td>\n",
       "      <td>113.15</td>\n",
       "      <td>72.0</td>\n",
       "      <td>136.0</td>\n",
       "      <td>10.9</td>\n",
       "      <td>0</td>\n",
       "    </tr>\n",
       "    <tr>\n",
       "      <th>5</th>\n",
       "      <td>2503</td>\n",
       "      <td>D</td>\n",
       "      <td>Placebo</td>\n",
       "      <td>66</td>\n",
       "      <td>F</td>\n",
       "      <td>N</td>\n",
       "      <td>Y</td>\n",
       "      <td>N</td>\n",
       "      <td>N</td>\n",
       "      <td>0.8</td>\n",
       "      <td>248.0</td>\n",
       "      <td>3.98</td>\n",
       "      <td>50.0</td>\n",
       "      <td>944.0</td>\n",
       "      <td>93.00</td>\n",
       "      <td>63.0</td>\n",
       "      <td>251.0</td>\n",
       "      <td>11.0</td>\n",
       "      <td>0</td>\n",
       "    </tr>\n",
       "    <tr>\n",
       "      <th>6</th>\n",
       "      <td>1832</td>\n",
       "      <td>C</td>\n",
       "      <td>Placebo</td>\n",
       "      <td>55</td>\n",
       "      <td>F</td>\n",
       "      <td>N</td>\n",
       "      <td>Y</td>\n",
       "      <td>N</td>\n",
       "      <td>N</td>\n",
       "      <td>1.0</td>\n",
       "      <td>322.0</td>\n",
       "      <td>4.09</td>\n",
       "      <td>52.0</td>\n",
       "      <td>824.0</td>\n",
       "      <td>60.45</td>\n",
       "      <td>213.0</td>\n",
       "      <td>204.0</td>\n",
       "      <td>9.7</td>\n",
       "      <td>0</td>\n",
       "    </tr>\n",
       "    <tr>\n",
       "      <th>7</th>\n",
       "      <td>2466</td>\n",
       "      <td>D</td>\n",
       "      <td>Placebo</td>\n",
       "      <td>53</td>\n",
       "      <td>F</td>\n",
       "      <td>N</td>\n",
       "      <td>N</td>\n",
       "      <td>N</td>\n",
       "      <td>N</td>\n",
       "      <td>0.3</td>\n",
       "      <td>280.0</td>\n",
       "      <td>4.00</td>\n",
       "      <td>52.0</td>\n",
       "      <td>4651.2</td>\n",
       "      <td>28.38</td>\n",
       "      <td>189.0</td>\n",
       "      <td>373.0</td>\n",
       "      <td>11.0</td>\n",
       "      <td>0</td>\n",
       "    </tr>\n",
       "    <tr>\n",
       "      <th>...</th>\n",
       "      <td>...</td>\n",
       "      <td>...</td>\n",
       "      <td>...</td>\n",
       "      <td>...</td>\n",
       "      <td>...</td>\n",
       "      <td>...</td>\n",
       "      <td>...</td>\n",
       "      <td>...</td>\n",
       "      <td>...</td>\n",
       "      <td>...</td>\n",
       "      <td>...</td>\n",
       "      <td>...</td>\n",
       "      <td>...</td>\n",
       "      <td>...</td>\n",
       "      <td>...</td>\n",
       "      <td>...</td>\n",
       "      <td>...</td>\n",
       "      <td>...</td>\n",
       "      <td>...</td>\n",
       "    </tr>\n",
       "    <tr>\n",
       "      <th>411</th>\n",
       "      <td>1097</td>\n",
       "      <td>C</td>\n",
       "      <td>D-penicillamine</td>\n",
       "      <td>67</td>\n",
       "      <td>F</td>\n",
       "      <td>N</td>\n",
       "      <td>Y</td>\n",
       "      <td>N</td>\n",
       "      <td>N</td>\n",
       "      <td>1.0</td>\n",
       "      <td>309.5</td>\n",
       "      <td>3.58</td>\n",
       "      <td>73.0</td>\n",
       "      <td>1259.0</td>\n",
       "      <td>114.70</td>\n",
       "      <td>108.0</td>\n",
       "      <td>244.0</td>\n",
       "      <td>10.8</td>\n",
       "      <td>0</td>\n",
       "    </tr>\n",
       "    <tr>\n",
       "      <th>412</th>\n",
       "      <td>989</td>\n",
       "      <td>C</td>\n",
       "      <td>D-penicillamine</td>\n",
       "      <td>35</td>\n",
       "      <td>F</td>\n",
       "      <td>N</td>\n",
       "      <td>Y</td>\n",
       "      <td>N</td>\n",
       "      <td>N</td>\n",
       "      <td>0.7</td>\n",
       "      <td>309.5</td>\n",
       "      <td>3.23</td>\n",
       "      <td>73.0</td>\n",
       "      <td>1259.0</td>\n",
       "      <td>114.70</td>\n",
       "      <td>108.0</td>\n",
       "      <td>312.0</td>\n",
       "      <td>10.8</td>\n",
       "      <td>0</td>\n",
       "    </tr>\n",
       "    <tr>\n",
       "      <th>413</th>\n",
       "      <td>681</td>\n",
       "      <td>D</td>\n",
       "      <td>D-penicillamine</td>\n",
       "      <td>67</td>\n",
       "      <td>F</td>\n",
       "      <td>N</td>\n",
       "      <td>Y</td>\n",
       "      <td>N</td>\n",
       "      <td>N</td>\n",
       "      <td>1.2</td>\n",
       "      <td>309.5</td>\n",
       "      <td>2.96</td>\n",
       "      <td>73.0</td>\n",
       "      <td>1259.0</td>\n",
       "      <td>114.70</td>\n",
       "      <td>108.0</td>\n",
       "      <td>174.0</td>\n",
       "      <td>10.9</td>\n",
       "      <td>0</td>\n",
       "    </tr>\n",
       "    <tr>\n",
       "      <th>415</th>\n",
       "      <td>1055</td>\n",
       "      <td>C</td>\n",
       "      <td>D-penicillamine</td>\n",
       "      <td>57</td>\n",
       "      <td>F</td>\n",
       "      <td>N</td>\n",
       "      <td>Y</td>\n",
       "      <td>N</td>\n",
       "      <td>N</td>\n",
       "      <td>1.6</td>\n",
       "      <td>309.5</td>\n",
       "      <td>3.42</td>\n",
       "      <td>73.0</td>\n",
       "      <td>1259.0</td>\n",
       "      <td>114.70</td>\n",
       "      <td>108.0</td>\n",
       "      <td>143.0</td>\n",
       "      <td>9.9</td>\n",
       "      <td>0</td>\n",
       "    </tr>\n",
       "    <tr>\n",
       "      <th>416</th>\n",
       "      <td>691</td>\n",
       "      <td>C</td>\n",
       "      <td>D-penicillamine</td>\n",
       "      <td>58</td>\n",
       "      <td>F</td>\n",
       "      <td>N</td>\n",
       "      <td>Y</td>\n",
       "      <td>N</td>\n",
       "      <td>N</td>\n",
       "      <td>0.8</td>\n",
       "      <td>309.5</td>\n",
       "      <td>3.75</td>\n",
       "      <td>73.0</td>\n",
       "      <td>1259.0</td>\n",
       "      <td>114.70</td>\n",
       "      <td>108.0</td>\n",
       "      <td>269.0</td>\n",
       "      <td>10.4</td>\n",
       "      <td>0</td>\n",
       "    </tr>\n",
       "  </tbody>\n",
       "</table>\n",
       "<p>274 rows × 19 columns</p>\n",
       "</div>"
      ],
      "text/plain": [
       "     N_Days Status             Drug  Age Sex Ascites Hepatomegaly Spiders  \\\n",
       "1      4500      C  D-penicillamine   56   F       N            Y       Y   \n",
       "4      1504     CL          Placebo   38   F       N            Y       Y   \n",
       "5      2503      D          Placebo   66   F       N            Y       N   \n",
       "6      1832      C          Placebo   55   F       N            Y       N   \n",
       "7      2466      D          Placebo   53   F       N            N       N   \n",
       "..      ...    ...              ...  ...  ..     ...          ...     ...   \n",
       "411    1097      C  D-penicillamine   67   F       N            Y       N   \n",
       "412     989      C  D-penicillamine   35   F       N            Y       N   \n",
       "413     681      D  D-penicillamine   67   F       N            Y       N   \n",
       "415    1055      C  D-penicillamine   57   F       N            Y       N   \n",
       "416     691      C  D-penicillamine   58   F       N            Y       N   \n",
       "\n",
       "    Edema  Bilirubin  Cholesterol  Albumin  Copper  Alk_Phos    SGOT  \\\n",
       "1       N        1.1        302.0     4.14    54.0    7394.8  113.52   \n",
       "4       N        3.4        279.0     3.53   143.0     671.0  113.15   \n",
       "5       N        0.8        248.0     3.98    50.0     944.0   93.00   \n",
       "6       N        1.0        322.0     4.09    52.0     824.0   60.45   \n",
       "7       N        0.3        280.0     4.00    52.0    4651.2   28.38   \n",
       "..    ...        ...          ...      ...     ...       ...     ...   \n",
       "411     N        1.0        309.5     3.58    73.0    1259.0  114.70   \n",
       "412     N        0.7        309.5     3.23    73.0    1259.0  114.70   \n",
       "413     N        1.2        309.5     2.96    73.0    1259.0  114.70   \n",
       "415     N        1.6        309.5     3.42    73.0    1259.0  114.70   \n",
       "416     N        0.8        309.5     3.75    73.0    1259.0  114.70   \n",
       "\n",
       "     Tryglicerides  Platelets  Prothrombin  Stage  \n",
       "1             88.0      221.0         10.6      0  \n",
       "4             72.0      136.0         10.9      0  \n",
       "5             63.0      251.0         11.0      0  \n",
       "6            213.0      204.0          9.7      0  \n",
       "7            189.0      373.0         11.0      0  \n",
       "..             ...        ...          ...    ...  \n",
       "411          108.0      244.0         10.8      0  \n",
       "412          108.0      312.0         10.8      0  \n",
       "413          108.0      174.0         10.9      0  \n",
       "415          108.0      143.0          9.9      0  \n",
       "416          108.0      269.0         10.4      0  \n",
       "\n",
       "[274 rows x 19 columns]"
      ]
     },
     "execution_count": 22,
     "metadata": {},
     "output_type": "execute_result"
    }
   ],
   "source": [
    "df[df['Stage']==0]"
   ]
  },
  {
   "cell_type": "code",
   "execution_count": 23,
   "id": "16283349",
   "metadata": {
    "execution": {
     "iopub.execute_input": "2022-11-03T09:46:18.011240Z",
     "iopub.status.busy": "2022-11-03T09:46:18.010114Z",
     "iopub.status.idle": "2022-11-03T09:46:18.024618Z",
     "shell.execute_reply": "2022-11-03T09:46:18.022732Z"
    },
    "papermill": {
     "duration": 0.043,
     "end_time": "2022-11-03T09:46:18.027221",
     "exception": false,
     "start_time": "2022-11-03T09:46:17.984221",
     "status": "completed"
    },
    "tags": []
   },
   "outputs": [
    {
     "name": "stdout",
     "output_type": "stream",
     "text": [
      "0       D\n",
      "1       C\n",
      "2       D\n",
      "3       D\n",
      "4      CL\n",
      "       ..\n",
      "413     D\n",
      "414     C\n",
      "415     C\n",
      "416     C\n",
      "417     C\n",
      "Name: Status, Length: 418, dtype: object\n",
      "----------------------------------\n",
      "0      D-penicillamine\n",
      "1      D-penicillamine\n",
      "2      D-penicillamine\n",
      "3      D-penicillamine\n",
      "4              Placebo\n",
      "            ...       \n",
      "413    D-penicillamine\n",
      "414    D-penicillamine\n",
      "415    D-penicillamine\n",
      "416    D-penicillamine\n",
      "417    D-penicillamine\n",
      "Name: Drug, Length: 418, dtype: object\n",
      "----------------------------------\n",
      "0      F\n",
      "1      F\n",
      "2      M\n",
      "3      F\n",
      "4      F\n",
      "      ..\n",
      "413    F\n",
      "414    F\n",
      "415    F\n",
      "416    F\n",
      "417    F\n",
      "Name: Sex, Length: 418, dtype: object\n",
      "----------------------------------\n",
      "0      Y\n",
      "1      N\n",
      "2      N\n",
      "3      N\n",
      "4      N\n",
      "      ..\n",
      "413    N\n",
      "414    N\n",
      "415    N\n",
      "416    N\n",
      "417    N\n",
      "Name: Ascites, Length: 418, dtype: object\n",
      "----------------------------------\n",
      "0      Y\n",
      "1      Y\n",
      "2      N\n",
      "3      Y\n",
      "4      Y\n",
      "      ..\n",
      "413    Y\n",
      "414    Y\n",
      "415    Y\n",
      "416    Y\n",
      "417    Y\n",
      "Name: Hepatomegaly, Length: 418, dtype: object\n",
      "----------------------------------\n",
      "0      Y\n",
      "1      Y\n",
      "2      N\n",
      "3      Y\n",
      "4      Y\n",
      "      ..\n",
      "413    N\n",
      "414    N\n",
      "415    N\n",
      "416    N\n",
      "417    N\n",
      "Name: Spiders, Length: 418, dtype: object\n",
      "----------------------------------\n",
      "0      Y\n",
      "1      N\n",
      "2      S\n",
      "3      S\n",
      "4      N\n",
      "      ..\n",
      "413    N\n",
      "414    N\n",
      "415    N\n",
      "416    N\n",
      "417    N\n",
      "Name: Edema, Length: 418, dtype: object\n",
      "----------------------------------\n"
     ]
    }
   ],
   "source": [
    "for i in categorical_col:\n",
    "    print(df[i])\n",
    "    print('----------------------------------')"
   ]
  },
  {
   "cell_type": "code",
   "execution_count": 24,
   "id": "9534bf24",
   "metadata": {
    "execution": {
     "iopub.execute_input": "2022-11-03T09:46:18.079102Z",
     "iopub.status.busy": "2022-11-03T09:46:18.078429Z",
     "iopub.status.idle": "2022-11-03T09:46:18.097175Z",
     "shell.execute_reply": "2022-11-03T09:46:18.095577Z"
    },
    "papermill": {
     "duration": 0.047965,
     "end_time": "2022-11-03T09:46:18.099674",
     "exception": false,
     "start_time": "2022-11-03T09:46:18.051709",
     "status": "completed"
    },
    "tags": []
   },
   "outputs": [
    {
     "name": "stdout",
     "output_type": "stream",
     "text": [
      "Status  Stage\n",
      "C       0        182\n",
      "        1         50\n",
      "CL      0         15\n",
      "        1         10\n",
      "D       1         84\n",
      "        0         77\n",
      "Name: Stage, dtype: int64\n",
      "----------------------------------\n",
      "Drug             Stage\n",
      "D-penicillamine  0        174\n",
      "                 1         90\n",
      "Placebo          0        100\n",
      "                 1         54\n",
      "Name: Stage, dtype: int64\n",
      "----------------------------------\n",
      "Sex  Stage\n",
      "F    0        247\n",
      "     1        127\n",
      "M    0         27\n",
      "     1         17\n",
      "Name: Stage, dtype: int64\n",
      "----------------------------------\n",
      "Ascites  Stage\n",
      "N        0        271\n",
      "         1        123\n",
      "Y        1         21\n",
      "         0          3\n",
      "Name: Stage, dtype: int64\n",
      "----------------------------------\n",
      "Hepatomegaly  Stage\n",
      "N             0        131\n",
      "              1         21\n",
      "Y             0        143\n",
      "              1        123\n",
      "Name: Stage, dtype: int64\n",
      "----------------------------------\n",
      "Spiders  Stage\n",
      "N        0        234\n",
      "         1         94\n",
      "Y        1         50\n",
      "         0         40\n",
      "Name: Stage, dtype: int64\n",
      "----------------------------------\n",
      "Edema  Stage\n",
      "N      0        250\n",
      "       1        104\n",
      "S      1         24\n",
      "       0         20\n",
      "Y      1         16\n",
      "       0          4\n",
      "Name: Stage, dtype: int64\n",
      "----------------------------------\n"
     ]
    }
   ],
   "source": [
    "for i in categorical_col:\n",
    "    print(df.groupby(i).Stage.value_counts())\n",
    "    print('----------------------------------')"
   ]
  },
  {
   "cell_type": "code",
   "execution_count": 25,
   "id": "a35c2e95",
   "metadata": {
    "execution": {
     "iopub.execute_input": "2022-11-03T09:46:18.151009Z",
     "iopub.status.busy": "2022-11-03T09:46:18.150256Z",
     "iopub.status.idle": "2022-11-03T09:46:19.421039Z",
     "shell.execute_reply": "2022-11-03T09:46:19.419785Z"
    },
    "papermill": {
     "duration": 1.299677,
     "end_time": "2022-11-03T09:46:19.423789",
     "exception": false,
     "start_time": "2022-11-03T09:46:18.124112",
     "status": "completed"
    },
    "tags": []
   },
   "outputs": [
    {
     "data": {
      "image/png": "[encoded data removed]",
      "text/plain": [
       "<Figure size 432x288 with 1 Axes>"
      ]
     },
     "metadata": {
      "needs_background": "light"
     },
     "output_type": "display_data"
    },
    {
     "data": {
      "image/png": "[encoded data removed]",
      "text/plain": [
       "<Figure size 432x288 with 1 Axes>"
      ]
     },
     "metadata": {
      "needs_background": "light"
     },
     "output_type": "display_data"
    },
    {
     "data": {
      "image/png": "[encoded data removed]",
      "text/plain": [
       "<Figure size 432x288 with 1 Axes>"
      ]
     },
     "metadata": {
      "needs_background": "light"
     },
     "output_type": "display_data"
    },
    {
     "data": {
      "image/png": "[encoded data removed]",
      "text/plain": [
       "<Figure size 432x288 with 1 Axes>"
      ]
     },
     "metadata": {
      "needs_background": "light"
     },
     "output_type": "display_data"
    },
    {
     "data": {
      "image/png": "[encoded data removed]",
      "text/plain": [
       "<Figure size 432x288 with 1 Axes>"
      ]
     },
     "metadata": {
      "needs_background": "light"
     },
     "output_type": "display_data"
    },
    {
     "data": {
      "image/png": "[encoded data removed]",
      "text/plain": [
       "<Figure size 432x288 with 1 Axes>"
      ]
     },
     "metadata": {
      "needs_background": "light"
     },
     "output_type": "display_data"
    },
    {
     "data": {
      "image/png": "[encoded data removed]",
      "text/plain": [
       "<Figure size 432x288 with 1 Axes>"
      ]
     },
     "metadata": {
      "needs_background": "light"
     },
     "output_type": "display_data"
    }
   ],
   "source": [
    "for i in categorical_col:\n",
    "    sns.countplot(x=df[i], hue='Stage', data =df)\n",
    "    plt.show()"
   ]
  },
  {
   "cell_type": "markdown",
   "id": "b7cfc799",
   "metadata": {
    "papermill": {
     "duration": 0.027252,
     "end_time": "2022-11-03T09:46:19.479043",
     "exception": false,
     "start_time": "2022-11-03T09:46:19.451791",
     "status": "completed"
    },
    "tags": []
   },
   "source": [
    "# 2. ML Model"
   ]
  },
  {
   "cell_type": "code",
   "execution_count": 26,
   "id": "bba05a8f",
   "metadata": {
    "execution": {
     "iopub.execute_input": "2022-11-03T09:46:19.535066Z",
     "iopub.status.busy": "2022-11-03T09:46:19.534068Z",
     "iopub.status.idle": "2022-11-03T09:46:20.181442Z",
     "shell.execute_reply": "2022-11-03T09:46:20.180540Z"
    },
    "papermill": {
     "duration": 0.677738,
     "end_time": "2022-11-03T09:46:20.184004",
     "exception": false,
     "start_time": "2022-11-03T09:46:19.506266",
     "status": "completed"
    },
    "tags": []
   },
   "outputs": [],
   "source": [
    "import pandas as pd\n",
    "import numpy as np \n",
    "import matplotlib.pyplot as plt\n",
    "import seaborn as sns\n",
    "%matplotlib inline\n",
    "from sklearn.feature_selection import SelectKBest\n",
    "from sklearn.utils import resample\n",
    "from sklearn.feature_selection import chi2\n",
    "from sklearn.preprocessing import MinMaxScaler\n",
    "from sklearn.model_selection import train_test_split\n",
    "from sklearn import metrics\n",
    "from sklearn.linear_model import LogisticRegression\n",
    "from sklearn.ensemble import RandomForestClassifier\n",
    "from mlxtend.plotting import plot_confusion_matrix\n",
    "from sklearn.metrics import confusion_matrix, accuracy_score, roc_curve, classification_report\n",
    "import warnings\n",
    "warnings.filterwarnings('ignore')\n",
    "from sklearn import metrics"
   ]
  },
  {
   "cell_type": "code",
   "execution_count": 27,
   "id": "5e5441d5",
   "metadata": {
    "execution": {
     "iopub.execute_input": "2022-11-03T09:46:20.238596Z",
     "iopub.status.busy": "2022-11-03T09:46:20.238153Z",
     "iopub.status.idle": "2022-11-03T09:46:20.263619Z",
     "shell.execute_reply": "2022-11-03T09:46:20.262446Z"
    },
    "papermill": {
     "duration": 0.055777,
     "end_time": "2022-11-03T09:46:20.266056",
     "exception": false,
     "start_time": "2022-11-03T09:46:20.210279",
     "status": "completed"
    },
    "tags": []
   },
   "outputs": [
    {
     "data": {
      "text/html": [
       "<div>\n",
       "<style scoped>\n",
       "    .dataframe tbody tr th:only-of-type {\n",
       "        vertical-align: middle;\n",
       "    }\n",
       "\n",
       "    .dataframe tbody tr th {\n",
       "        vertical-align: top;\n",
       "    }\n",
       "\n",
       "    .dataframe thead th {\n",
       "        text-align: right;\n",
       "    }\n",
       "</style>\n",
       "<table border=\"1\" class=\"dataframe\">\n",
       "  <thead>\n",
       "    <tr style=\"text-align: right;\">\n",
       "      <th></th>\n",
       "      <th>N_Days</th>\n",
       "      <th>Status</th>\n",
       "      <th>Drug</th>\n",
       "      <th>Age</th>\n",
       "      <th>Sex</th>\n",
       "      <th>Ascites</th>\n",
       "      <th>Hepatomegaly</th>\n",
       "      <th>Spiders</th>\n",
       "      <th>Edema</th>\n",
       "      <th>Bilirubin</th>\n",
       "      <th>Cholesterol</th>\n",
       "      <th>Albumin</th>\n",
       "      <th>Copper</th>\n",
       "      <th>Alk_Phos</th>\n",
       "      <th>SGOT</th>\n",
       "      <th>Tryglicerides</th>\n",
       "      <th>Platelets</th>\n",
       "      <th>Prothrombin</th>\n",
       "      <th>Stage</th>\n",
       "    </tr>\n",
       "  </thead>\n",
       "  <tbody>\n",
       "    <tr>\n",
       "      <th>0</th>\n",
       "      <td>400</td>\n",
       "      <td>D</td>\n",
       "      <td>D-penicillamine</td>\n",
       "      <td>58</td>\n",
       "      <td>F</td>\n",
       "      <td>Y</td>\n",
       "      <td>Y</td>\n",
       "      <td>Y</td>\n",
       "      <td>Y</td>\n",
       "      <td>14.5</td>\n",
       "      <td>261.0</td>\n",
       "      <td>2.60</td>\n",
       "      <td>156.0</td>\n",
       "      <td>1718.0</td>\n",
       "      <td>137.95</td>\n",
       "      <td>172.0</td>\n",
       "      <td>190.0</td>\n",
       "      <td>12.2</td>\n",
       "      <td>1</td>\n",
       "    </tr>\n",
       "    <tr>\n",
       "      <th>1</th>\n",
       "      <td>4500</td>\n",
       "      <td>C</td>\n",
       "      <td>D-penicillamine</td>\n",
       "      <td>56</td>\n",
       "      <td>F</td>\n",
       "      <td>N</td>\n",
       "      <td>Y</td>\n",
       "      <td>Y</td>\n",
       "      <td>N</td>\n",
       "      <td>1.1</td>\n",
       "      <td>302.0</td>\n",
       "      <td>4.14</td>\n",
       "      <td>54.0</td>\n",
       "      <td>7394.8</td>\n",
       "      <td>113.52</td>\n",
       "      <td>88.0</td>\n",
       "      <td>221.0</td>\n",
       "      <td>10.6</td>\n",
       "      <td>0</td>\n",
       "    </tr>\n",
       "    <tr>\n",
       "      <th>2</th>\n",
       "      <td>1012</td>\n",
       "      <td>D</td>\n",
       "      <td>D-penicillamine</td>\n",
       "      <td>70</td>\n",
       "      <td>M</td>\n",
       "      <td>N</td>\n",
       "      <td>N</td>\n",
       "      <td>N</td>\n",
       "      <td>S</td>\n",
       "      <td>1.4</td>\n",
       "      <td>176.0</td>\n",
       "      <td>3.48</td>\n",
       "      <td>210.0</td>\n",
       "      <td>516.0</td>\n",
       "      <td>96.10</td>\n",
       "      <td>55.0</td>\n",
       "      <td>151.0</td>\n",
       "      <td>12.0</td>\n",
       "      <td>1</td>\n",
       "    </tr>\n",
       "    <tr>\n",
       "      <th>3</th>\n",
       "      <td>1925</td>\n",
       "      <td>D</td>\n",
       "      <td>D-penicillamine</td>\n",
       "      <td>54</td>\n",
       "      <td>F</td>\n",
       "      <td>N</td>\n",
       "      <td>Y</td>\n",
       "      <td>Y</td>\n",
       "      <td>S</td>\n",
       "      <td>1.8</td>\n",
       "      <td>244.0</td>\n",
       "      <td>2.54</td>\n",
       "      <td>64.0</td>\n",
       "      <td>6121.8</td>\n",
       "      <td>60.63</td>\n",
       "      <td>92.0</td>\n",
       "      <td>183.0</td>\n",
       "      <td>10.3</td>\n",
       "      <td>1</td>\n",
       "    </tr>\n",
       "    <tr>\n",
       "      <th>4</th>\n",
       "      <td>1504</td>\n",
       "      <td>CL</td>\n",
       "      <td>Placebo</td>\n",
       "      <td>38</td>\n",
       "      <td>F</td>\n",
       "      <td>N</td>\n",
       "      <td>Y</td>\n",
       "      <td>Y</td>\n",
       "      <td>N</td>\n",
       "      <td>3.4</td>\n",
       "      <td>279.0</td>\n",
       "      <td>3.53</td>\n",
       "      <td>143.0</td>\n",
       "      <td>671.0</td>\n",
       "      <td>113.15</td>\n",
       "      <td>72.0</td>\n",
       "      <td>136.0</td>\n",
       "      <td>10.9</td>\n",
       "      <td>0</td>\n",
       "    </tr>\n",
       "  </tbody>\n",
       "</table>\n",
       "</div>"
      ],
      "text/plain": [
       "   N_Days Status             Drug  Age Sex Ascites Hepatomegaly Spiders Edema  \\\n",
       "0     400      D  D-penicillamine   58   F       Y            Y       Y     Y   \n",
       "1    4500      C  D-penicillamine   56   F       N            Y       Y     N   \n",
       "2    1012      D  D-penicillamine   70   M       N            N       N     S   \n",
       "3    1925      D  D-penicillamine   54   F       N            Y       Y     S   \n",
       "4    1504     CL          Placebo   38   F       N            Y       Y     N   \n",
       "\n",
       "   Bilirubin  Cholesterol  Albumin  Copper  Alk_Phos    SGOT  Tryglicerides  \\\n",
       "0       14.5        261.0     2.60   156.0    1718.0  137.95          172.0   \n",
       "1        1.1        302.0     4.14    54.0    7394.8  113.52           88.0   \n",
       "2        1.4        176.0     3.48   210.0     516.0   96.10           55.0   \n",
       "3        1.8        244.0     2.54    64.0    6121.8   60.63           92.0   \n",
       "4        3.4        279.0     3.53   143.0     671.0  113.15           72.0   \n",
       "\n",
       "   Platelets  Prothrombin  Stage  \n",
       "0      190.0         12.2      1  \n",
       "1      221.0         10.6      0  \n",
       "2      151.0         12.0      1  \n",
       "3      183.0         10.3      1  \n",
       "4      136.0         10.9      0  "
      ]
     },
     "execution_count": 27,
     "metadata": {},
     "output_type": "execute_result"
    }
   ],
   "source": [
    "features= df.copy()\n",
    "features.head()"
   ]
  },
  {
   "cell_type": "code",
   "execution_count": 28,
   "id": "a28231a5",
   "metadata": {
    "execution": {
     "iopub.execute_input": "2022-11-03T09:46:20.321154Z",
     "iopub.status.busy": "2022-11-03T09:46:20.320504Z",
     "iopub.status.idle": "2022-11-03T09:46:20.335259Z",
     "shell.execute_reply": "2022-11-03T09:46:20.333975Z"
    },
    "papermill": {
     "duration": 0.045613,
     "end_time": "2022-11-03T09:46:20.338079",
     "exception": false,
     "start_time": "2022-11-03T09:46:20.292466",
     "status": "completed"
    },
    "tags": []
   },
   "outputs": [],
   "source": [
    "one_hot_encoded_training_predictors = pd.get_dummies(features)\n",
    "data=one_hot_encoded_training_predictors "
   ]
  },
  {
   "cell_type": "code",
   "execution_count": 29,
   "id": "57aa10cc",
   "metadata": {
    "execution": {
     "iopub.execute_input": "2022-11-03T09:46:20.393076Z",
     "iopub.status.busy": "2022-11-03T09:46:20.392053Z",
     "iopub.status.idle": "2022-11-03T09:46:20.400720Z",
     "shell.execute_reply": "2022-11-03T09:46:20.399473Z"
    },
    "papermill": {
     "duration": 0.03836,
     "end_time": "2022-11-03T09:46:20.403002",
     "exception": false,
     "start_time": "2022-11-03T09:46:20.364642",
     "status": "completed"
    },
    "tags": []
   },
   "outputs": [
    {
     "name": "stdout",
     "output_type": "stream",
     "text": [
      "X -  (418, 27) \n",
      "y -  (418,)\n"
     ]
    }
   ],
   "source": [
    "y = df.loc[:,'Stage'].values # target\n",
    "X = data.drop(['Stage'], axis = 1)  # predictor\n",
    "print(\"X - \", X.shape, \"\\ny - \", y.shape)"
   ]
  },
  {
   "cell_type": "code",
   "execution_count": 30,
   "id": "3e14f5a5",
   "metadata": {
    "execution": {
     "iopub.execute_input": "2022-11-03T09:46:20.456902Z",
     "iopub.status.busy": "2022-11-03T09:46:20.456459Z",
     "iopub.status.idle": "2022-11-03T09:46:20.466921Z",
     "shell.execute_reply": "2022-11-03T09:46:20.466012Z"
    },
    "papermill": {
     "duration": 0.040199,
     "end_time": "2022-11-03T09:46:20.469280",
     "exception": false,
     "start_time": "2022-11-03T09:46:20.429081",
     "status": "completed"
    },
    "tags": []
   },
   "outputs": [],
   "source": [
    "best=SelectKBest(score_func=chi2, k=6)\n",
    "fit=best.fit(X,y)"
   ]
  },
  {
   "cell_type": "code",
   "execution_count": 31,
   "id": "5deaf776",
   "metadata": {
    "execution": {
     "iopub.execute_input": "2022-11-03T09:46:20.523610Z",
     "iopub.status.busy": "2022-11-03T09:46:20.522794Z",
     "iopub.status.idle": "2022-11-03T09:46:20.528690Z",
     "shell.execute_reply": "2022-11-03T09:46:20.527818Z"
    },
    "papermill": {
     "duration": 0.035464,
     "end_time": "2022-11-03T09:46:20.530826",
     "exception": false,
     "start_time": "2022-11-03T09:46:20.495362",
     "status": "completed"
    },
    "tags": []
   },
   "outputs": [],
   "source": [
    "data_scores=pd.DataFrame(fit.scores_)\n",
    "data_columns=pd.DataFrame(X.columns)"
   ]
  },
  {
   "cell_type": "code",
   "execution_count": 32,
   "id": "829d5834",
   "metadata": {
    "execution": {
     "iopub.execute_input": "2022-11-03T09:46:20.585291Z",
     "iopub.status.busy": "2022-11-03T09:46:20.584347Z",
     "iopub.status.idle": "2022-11-03T09:46:20.595915Z",
     "shell.execute_reply": "2022-11-03T09:46:20.594710Z"
    },
    "papermill": {
     "duration": 0.042178,
     "end_time": "2022-11-03T09:46:20.599082",
     "exception": false,
     "start_time": "2022-11-03T09:46:20.556904",
     "status": "completed"
    },
    "tags": []
   },
   "outputs": [
    {
     "name": "stdout",
     "output_type": "stream",
     "text": [
      "           Feature         Score\n",
      "0           N_Days  28355.118139\n",
      "5           Copper   1196.425950\n",
      "9        Platelets    855.989310\n",
      "3      Cholesterol    306.192968\n",
      "6         Alk_Phos    140.293209\n",
      "2        Bilirubin     99.245690\n",
      "7             SGOT     67.677277\n",
      "1              Age     39.038632\n",
      "19       Ascites_Y     29.910622\n",
      "20  Hepatomegaly_N     28.658189\n",
      "13        Status_D     22.397334\n"
     ]
    }
   ],
   "source": [
    "scores=pd.concat([data_columns,data_scores],axis=1)\n",
    "scores.columns=['Feature','Score']\n",
    "print(scores.nlargest(11,'Score'))"
   ]
  },
  {
   "cell_type": "code",
   "execution_count": 33,
   "id": "1d151b1a",
   "metadata": {
    "execution": {
     "iopub.execute_input": "2022-11-03T09:46:20.654441Z",
     "iopub.status.busy": "2022-11-03T09:46:20.654019Z",
     "iopub.status.idle": "2022-11-03T09:46:20.661584Z",
     "shell.execute_reply": "2022-11-03T09:46:20.660595Z"
    },
    "papermill": {
     "duration": 0.037593,
     "end_time": "2022-11-03T09:46:20.663930",
     "exception": false,
     "start_time": "2022-11-03T09:46:20.626337",
     "status": "completed"
    },
    "tags": []
   },
   "outputs": [],
   "source": [
    "train_x, test_x, train_y, test_y = train_test_split(X, y, test_size=0.2, random_state=1,shuffle=True)"
   ]
  },
  {
   "cell_type": "code",
   "execution_count": 34,
   "id": "9662e9f7",
   "metadata": {
    "execution": {
     "iopub.execute_input": "2022-11-03T09:46:20.719637Z",
     "iopub.status.busy": "2022-11-03T09:46:20.718911Z",
     "iopub.status.idle": "2022-11-03T09:46:20.948997Z",
     "shell.execute_reply": "2022-11-03T09:46:20.947282Z"
    },
    "papermill": {
     "duration": 0.262236,
     "end_time": "2022-11-03T09:46:20.952844",
     "exception": false,
     "start_time": "2022-11-03T09:46:20.690608",
     "status": "completed"
    },
    "tags": []
   },
   "outputs": [
    {
     "name": "stdout",
     "output_type": "stream",
     "text": [
      "confussion matrix\n",
      "[[48  6]\n",
      " [17 13]]\n",
      "\n",
      "\n",
      "Accuracy of Logistic Regression: 72.61904761904762 \n",
      "\n",
      "              precision    recall  f1-score   support\n",
      "\n",
      "           0       0.74      0.89      0.81        54\n",
      "           1       0.68      0.43      0.53        30\n",
      "\n",
      "    accuracy                           0.73        84\n",
      "   macro avg       0.71      0.66      0.67        84\n",
      "weighted avg       0.72      0.73      0.71        84\n",
      "\n"
     ]
    }
   ],
   "source": [
    "from sklearn.linear_model import LogisticRegression\n",
    "m1 = 'LogisticRegression'\n",
    "lr = LogisticRegression(random_state=1, max_iter=1000)\n",
    "model = lr.fit(train_x, train_y)\n",
    "lr_predict = lr.predict(test_x)\n",
    "lr_conf_matrix = confusion_matrix(test_y, lr_predict)\n",
    "lr_acc_score = accuracy_score(test_y, lr_predict)\n",
    "print(\"confussion matrix\")\n",
    "print(lr_conf_matrix)\n",
    "print(\"\\n\")\n",
    "print(\"Accuracy of Logistic Regression:\",lr_acc_score*100,'\\n')\n",
    "print(classification_report(test_y,lr_predict))"
   ]
  },
  {
   "cell_type": "code",
   "execution_count": 35,
   "id": "5c9ea5e0",
   "metadata": {
    "execution": {
     "iopub.execute_input": "2022-11-03T09:46:21.011298Z",
     "iopub.status.busy": "2022-11-03T09:46:21.010577Z",
     "iopub.status.idle": "2022-11-03T09:46:21.150364Z",
     "shell.execute_reply": "2022-11-03T09:46:21.149100Z"
    },
    "papermill": {
     "duration": 0.172298,
     "end_time": "2022-11-03T09:46:21.154059",
     "exception": false,
     "start_time": "2022-11-03T09:46:20.981761",
     "status": "completed"
    },
    "tags": []
   },
   "outputs": [
    {
     "data": {
      "text/plain": [
       "(<Figure size 432x288 with 1 Axes>,\n",
       " <AxesSubplot:xlabel='predicted label', ylabel='true label'>)"
      ]
     },
     "execution_count": 35,
     "metadata": {},
     "output_type": "execute_result"
    },
    {
     "data": {
      "image/png": "[encoded data removed]",
      "text/plain": [
       "<Figure size 432x288 with 1 Axes>"
      ]
     },
     "metadata": {
      "needs_background": "light"
     },
     "output_type": "display_data"
    }
   ],
   "source": [
    "plot_confusion_matrix(confusion_matrix(test_y, lr_predict), cmap = \"viridis_r\")"
   ]
  },
  {
   "cell_type": "code",
   "execution_count": 36,
   "id": "a748463d",
   "metadata": {
    "execution": {
     "iopub.execute_input": "2022-11-03T09:46:21.239202Z",
     "iopub.status.busy": "2022-11-03T09:46:21.238429Z",
     "iopub.status.idle": "2022-11-03T09:46:21.617693Z",
     "shell.execute_reply": "2022-11-03T09:46:21.615905Z"
    },
    "papermill": {
     "duration": 0.419568,
     "end_time": "2022-11-03T09:46:21.620553",
     "exception": false,
     "start_time": "2022-11-03T09:46:21.200985",
     "status": "completed"
    },
    "tags": []
   },
   "outputs": [
    {
     "name": "stdout",
     "output_type": "stream",
     "text": [
      "confussion matrix\n",
      "[[13 17]\n",
      " [ 7 47]]\n",
      "\n",
      "\n",
      "Accuracy of Random Forest: 71.42857142857143 \n",
      "\n",
      "              precision    recall  f1-score   support\n",
      "\n",
      "           0       0.73      0.87      0.80        54\n",
      "           1       0.65      0.43      0.52        30\n",
      "\n",
      "    accuracy                           0.71        84\n",
      "   macro avg       0.69      0.65      0.66        84\n",
      "weighted avg       0.70      0.71      0.70        84\n",
      "\n"
     ]
    }
   ],
   "source": [
    "m2 = 'Random Forest Classfier'\n",
    "rf = RandomForestClassifier(n_estimators=200, random_state=0,max_depth=12)\n",
    "rf.fit(train_x,train_y)\n",
    "rf_predicted = rf.predict(test_x)\n",
    "rf_conf_matrix = confusion_matrix(test_y, rf_predicted,labels=(1,0))\n",
    "rf_acc_score = accuracy_score(test_y, rf_predicted)\n",
    "print(\"confussion matrix\")\n",
    "print(rf_conf_matrix)\n",
    "print(\"\\n\")\n",
    "print(\"Accuracy of Random Forest:\",rf_acc_score*100,'\\n')\n",
    "print(classification_report(test_y,rf_predicted))"
   ]
  },
  {
   "cell_type": "code",
   "execution_count": 37,
   "id": "5fd11b04",
   "metadata": {
    "execution": {
     "iopub.execute_input": "2022-11-03T09:46:21.678588Z",
     "iopub.status.busy": "2022-11-03T09:46:21.678128Z",
     "iopub.status.idle": "2022-11-03T09:46:21.817576Z",
     "shell.execute_reply": "2022-11-03T09:46:21.816287Z"
    },
    "papermill": {
     "duration": 0.17199,
     "end_time": "2022-11-03T09:46:21.820997",
     "exception": false,
     "start_time": "2022-11-03T09:46:21.649007",
     "status": "completed"
    },
    "scrolled": true,
    "tags": []
   },
   "outputs": [
    {
     "data": {
      "text/plain": [
       "(<Figure size 432x288 with 1 Axes>,\n",
       " <AxesSubplot:xlabel='predicted label', ylabel='true label'>)"
      ]
     },
     "execution_count": 37,
     "metadata": {},
     "output_type": "execute_result"
    },
    {
     "data": {
      "image/png": "[encoded data removed]",
      "text/plain": [
       "<Figure size 432x288 with 1 Axes>"
      ]
     },
     "metadata": {
      "needs_background": "light"
     },
     "output_type": "display_data"
    }
   ],
   "source": [
    "#confusion matrix\n",
    "plot_confusion_matrix(confusion_matrix(test_y, rf_predicted), cmap = \"viridis_r\")"
   ]
  },
  {
   "cell_type": "code",
   "execution_count": null,
   "id": "326466cb",
   "metadata": {
    "papermill": {
     "duration": 0.035339,
     "end_time": "2022-11-03T09:46:21.903717",
     "exception": false,
     "start_time": "2022-11-03T09:46:21.868378",
     "status": "completed"
    },
    "tags": []
   },
   "outputs": [],
   "source": []
  },
  {
   "cell_type": "code",
   "execution_count": null,
   "id": "1b36a080",
   "metadata": {
    "papermill": {
     "duration": 0.026762,
     "end_time": "2022-11-03T09:46:21.958261",
     "exception": false,
     "start_time": "2022-11-03T09:46:21.931499",
     "status": "completed"
    },
    "tags": []
   },
   "outputs": [],
   "source": []
  },
  {
   "cell_type": "code",
   "execution_count": null,
   "id": "174371b1",
   "metadata": {
    "papermill": {
     "duration": 0.026835,
     "end_time": "2022-11-03T09:46:22.014644",
     "exception": false,
     "start_time": "2022-11-03T09:46:21.987809",
     "status": "completed"
    },
    "tags": []
   },
   "outputs": [],
   "source": []
  },
  {
   "cell_type": "code",
   "execution_count": null,
   "id": "1da79fe4",
   "metadata": {
    "papermill": {
     "duration": 0.027903,
     "end_time": "2022-11-03T09:46:22.070243",
     "exception": false,
     "start_time": "2022-11-03T09:46:22.042340",
     "status": "completed"
    },
    "tags": []
   },
   "outputs": [],
   "source": []
  },
  {
   "cell_type": "code",
   "execution_count": null,
   "id": "1e64c4fc",
   "metadata": {
    "papermill": {
     "duration": 0.027758,
     "end_time": "2022-11-03T09:46:22.125254",
     "exception": false,
     "start_time": "2022-11-03T09:46:22.097496",
     "status": "completed"
    },
    "tags": []
   },
   "outputs": [],
   "source": []
  },
  {
   "cell_type": "code",
   "execution_count": null,
   "id": "ffef354e",
   "metadata": {
    "papermill": {
     "duration": 0.029377,
     "end_time": "2022-11-03T09:46:22.182623",
     "exception": false,
     "start_time": "2022-11-03T09:46:22.153246",
     "status": "completed"
    },
    "tags": []
   },
   "outputs": [],
   "source": []
  },
  {
   "cell_type": "code",
   "execution_count": null,
   "id": "78ac0cda",
   "metadata": {
    "papermill": {
     "duration": 0.028035,
     "end_time": "2022-11-03T09:46:22.238282",
     "exception": false,
     "start_time": "2022-11-03T09:46:22.210247",
     "status": "completed"
    },
    "tags": []
   },
   "outputs": [],
   "source": []
  },
  {
   "cell_type": "code",
   "execution_count": null,
   "id": "a386ea7b",
   "metadata": {
    "papermill": {
     "duration": 0.027041,
     "end_time": "2022-11-03T09:46:22.293021",
     "exception": false,
     "start_time": "2022-11-03T09:46:22.265980",
     "status": "completed"
    },
    "tags": []
   },
   "outputs": [],
   "source": []
  },
  {
   "cell_type": "code",
   "execution_count": null,
   "id": "43b7e24a",
   "metadata": {
    "papermill": {
     "duration": 0.027041,
     "end_time": "2022-11-03T09:46:22.347832",
     "exception": false,
     "start_time": "2022-11-03T09:46:22.320791",
     "status": "completed"
    },
    "tags": []
   },
   "outputs": [],
   "source": []
  },
  {
   "cell_type": "code",
   "execution_count": null,
   "id": "ff12973a",
   "metadata": {
    "papermill": {
     "duration": 0.026841,
     "end_time": "2022-11-03T09:46:22.401950",
     "exception": false,
     "start_time": "2022-11-03T09:46:22.375109",
     "status": "completed"
    },
    "tags": []
   },
   "outputs": [],
   "source": []
  },
  {
   "cell_type": "code",
   "execution_count": null,
   "id": "1c2deb28",
   "metadata": {
    "papermill": {
     "duration": 0.027147,
     "end_time": "2022-11-03T09:46:22.456376",
     "exception": false,
     "start_time": "2022-11-03T09:46:22.429229",
     "status": "completed"
    },
    "tags": []
   },
   "outputs": [],
   "source": []
  },
  {
   "cell_type": "code",
   "execution_count": null,
   "id": "777dbbec",
   "metadata": {
    "papermill": {
     "duration": 0.027842,
     "end_time": "2022-11-03T09:46:22.512288",
     "exception": false,
     "start_time": "2022-11-03T09:46:22.484446",
     "status": "completed"
    },
    "tags": []
   },
   "outputs": [],
   "source": []
  },
  {
   "cell_type": "code",
   "execution_count": null,
   "id": "6318aaad",
   "metadata": {
    "papermill": {
     "duration": 0.02733,
     "end_time": "2022-11-03T09:46:22.567120",
     "exception": false,
     "start_time": "2022-11-03T09:46:22.539790",
     "status": "completed"
    },
    "tags": []
   },
   "outputs": [],
   "source": []
  },
  {
   "cell_type": "code",
   "execution_count": null,
   "id": "8d98104a",
   "metadata": {
    "papermill": {
     "duration": 0.027024,
     "end_time": "2022-11-03T09:46:22.621567",
     "exception": false,
     "start_time": "2022-11-03T09:46:22.594543",
     "status": "completed"
    },
    "tags": []
   },
   "outputs": [],
   "source": []
  },
  {
   "cell_type": "code",
   "execution_count": null,
   "id": "3a45339c",
   "metadata": {
    "papermill": {
     "duration": 0.027123,
     "end_time": "2022-11-03T09:46:22.675809",
     "exception": false,
     "start_time": "2022-11-03T09:46:22.648686",
     "status": "completed"
    },
    "tags": []
   },
   "outputs": [],
   "source": []
  },
  {
   "cell_type": "code",
   "execution_count": null,
   "id": "913214b2",
   "metadata": {
    "papermill": {
     "duration": 0.026915,
     "end_time": "2022-11-03T09:46:22.730199",
     "exception": false,
     "start_time": "2022-11-03T09:46:22.703284",
     "status": "completed"
    },
    "tags": []
   },
   "outputs": [],
   "source": []
  },
  {
   "cell_type": "code",
   "execution_count": null,
   "id": "512d10ce",
   "metadata": {
    "papermill": {
     "duration": 0.027013,
     "end_time": "2022-11-03T09:46:22.784595",
     "exception": false,
     "start_time": "2022-11-03T09:46:22.757582",
     "status": "completed"
    },
    "tags": []
   },
   "outputs": [],
   "source": []
  },
  {
   "cell_type": "code",
   "execution_count": null,
   "id": "a8b4c473",
   "metadata": {
    "papermill": {
     "duration": 0.02699,
     "end_time": "2022-11-03T09:46:22.838921",
     "exception": false,
     "start_time": "2022-11-03T09:46:22.811931",
     "status": "completed"
    },
    "tags": []
   },
   "outputs": [],
   "source": []
  },
  {
   "cell_type": "code",
   "execution_count": null,
   "id": "358d96aa",
   "metadata": {
    "papermill": {
     "duration": 0.026941,
     "end_time": "2022-11-03T09:46:22.892970",
     "exception": false,
     "start_time": "2022-11-03T09:46:22.866029",
     "status": "completed"
    },
    "tags": []
   },
   "outputs": [],
   "source": []
  },
  {
   "cell_type": "code",
   "execution_count": null,
   "id": "c263b83c",
   "metadata": {
    "papermill": {
     "duration": 0.026886,
     "end_time": "2022-11-03T09:46:22.947150",
     "exception": false,
     "start_time": "2022-11-03T09:46:22.920264",
     "status": "completed"
    },
    "tags": []
   },
   "outputs": [],
   "source": []
  },
  {
   "cell_type": "code",
   "execution_count": null,
   "id": "8968e884",
   "metadata": {
    "papermill": {
     "duration": 0.027085,
     "end_time": "2022-11-03T09:46:23.002234",
     "exception": false,
     "start_time": "2022-11-03T09:46:22.975149",
     "status": "completed"
    },
    "tags": []
   },
   "outputs": [],
   "source": []
  },
  {
   "cell_type": "code",
   "execution_count": null,
   "id": "7ad71684",
   "metadata": {
    "papermill": {
     "duration": 0.026881,
     "end_time": "2022-11-03T09:46:23.056402",
     "exception": false,
     "start_time": "2022-11-03T09:46:23.029521",
     "status": "completed"
    },
    "tags": []
   },
   "outputs": [],
   "source": []
  },
  {
   "cell_type": "code",
   "execution_count": null,
   "id": "a406dc94",
   "metadata": {
    "papermill": {
     "duration": 0.026947,
     "end_time": "2022-11-03T09:46:23.110479",
     "exception": false,
     "start_time": "2022-11-03T09:46:23.083532",
     "status": "completed"
    },
    "tags": []
   },
   "outputs": [],
   "source": []
  },
  {
   "cell_type": "code",
   "execution_count": null,
   "id": "b3f92110",
   "metadata": {
    "papermill": {
     "duration": 0.027024,
     "end_time": "2022-11-03T09:46:23.164774",
     "exception": false,
     "start_time": "2022-11-03T09:46:23.137750",
     "status": "completed"
    },
    "tags": []
   },
   "outputs": [],
   "source": []
  },
  {
   "cell_type": "code",
   "execution_count": null,
   "id": "4179ce31",
   "metadata": {
    "papermill": {
     "duration": 0.027505,
     "end_time": "2022-11-03T09:46:23.220496",
     "exception": false,
     "start_time": "2022-11-03T09:46:23.192991",
     "status": "completed"
    },
    "tags": []
   },
   "outputs": [],
   "source": []
  },
  {
   "cell_type": "code",
   "execution_count": null,
   "id": "eac486f1",
   "metadata": {
    "papermill": {
     "duration": 0.027163,
     "end_time": "2022-11-03T09:46:23.275415",
     "exception": false,
     "start_time": "2022-11-03T09:46:23.248252",
     "status": "completed"
    },
    "tags": []
   },
   "outputs": [],
   "source": []
  },
  {
   "cell_type": "code",
   "execution_count": null,
   "id": "84c50bed",
   "metadata": {
    "papermill": {
     "duration": 0.027088,
     "end_time": "2022-11-03T09:46:23.329858",
     "exception": false,
     "start_time": "2022-11-03T09:46:23.302770",
     "status": "completed"
    },
    "tags": []
   },
   "outputs": [],
   "source": []
  },
  {
   "cell_type": "code",
   "execution_count": null,
   "id": "ccec1e37",
   "metadata": {
    "papermill": {
     "duration": 0.026843,
     "end_time": "2022-11-03T09:46:23.383857",
     "exception": false,
     "start_time": "2022-11-03T09:46:23.357014",
     "status": "completed"
    },
    "tags": []
   },
   "outputs": [],
   "source": []
  },
  {
   "cell_type": "code",
   "execution_count": null,
   "id": "bcbd7e40",
   "metadata": {
    "papermill": {
     "duration": 0.027404,
     "end_time": "2022-11-03T09:46:23.438551",
     "exception": false,
     "start_time": "2022-11-03T09:46:23.411147",
     "status": "completed"
    },
    "tags": []
   },
   "outputs": [],
   "source": []
  },
  {
   "cell_type": "code",
   "execution_count": null,
   "id": "baf3135b",
   "metadata": {
    "papermill": {
     "duration": 0.027195,
     "end_time": "2022-11-03T09:46:23.492945",
     "exception": false,
     "start_time": "2022-11-03T09:46:23.465750",
     "status": "completed"
    },
    "tags": []
   },
   "outputs": [],
   "source": []
  },
  {
   "cell_type": "code",
   "execution_count": null,
   "id": "a4fe9b54",
   "metadata": {
    "papermill": {
     "duration": 0.027067,
     "end_time": "2022-11-03T09:46:23.547383",
     "exception": false,
     "start_time": "2022-11-03T09:46:23.520316",
     "status": "completed"
    },
    "tags": []
   },
   "outputs": [],
   "source": []
  },
  {
   "cell_type": "code",
   "execution_count": null,
   "id": "7b3de9a2",
   "metadata": {
    "papermill": {
     "duration": 0.027353,
     "end_time": "2022-11-03T09:46:23.602049",
     "exception": false,
     "start_time": "2022-11-03T09:46:23.574696",
     "status": "completed"
    },
    "tags": []
   },
   "outputs": [],
   "source": []
  },
  {
   "cell_type": "code",
   "execution_count": null,
   "id": "7fcda17f",
   "metadata": {
    "papermill": {
     "duration": 0.028236,
     "end_time": "2022-11-03T09:46:23.658222",
     "exception": false,
     "start_time": "2022-11-03T09:46:23.629986",
     "status": "completed"
    },
    "tags": []
   },
   "outputs": [],
   "source": []
  },
  {
   "cell_type": "code",
   "execution_count": null,
   "id": "4bb5ba60",
   "metadata": {
    "papermill": {
     "duration": 0.027301,
     "end_time": "2022-11-03T09:46:23.713192",
     "exception": false,
     "start_time": "2022-11-03T09:46:23.685891",
     "status": "completed"
    },
    "tags": []
   },
   "outputs": [],
   "source": []
  }
 ],
 "metadata": {
  "kernelspec": {
   "display_name": "Python 3",
   "language": "python",
   "name": "python3"
  },
  "language_info": {
   "codemirror_mode": {
    "name": "ipython",
    "version": 3
   },
   "file_extension": ".py",
   "mimetype": "text/x-python",
   "name": "python",
   "nbconvert_exporter": "python",
   "pygments_lexer": "ipython3",
   "version": "3.7.12"
  },
  "papermill": {
   "default_parameters": {},
   "duration": 22.618772,
   "end_time": "2022-11-03T09:46:24.563654",
   "environment_variables": {},
   "exception": null,
   "input_path": "__notebook__.ipynb",
   "output_path": "__notebook__.ipynb",
   "parameters": {},
   "start_time": "2022-11-03T09:46:01.944882",
   "version": "2.3.4"
  }
 },
 "nbformat": 4,
 "nbformat_minor": 5
}
